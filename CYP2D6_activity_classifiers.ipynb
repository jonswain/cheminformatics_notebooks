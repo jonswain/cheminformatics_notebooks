{
 "cells": [
  {
   "cell_type": "markdown",
   "id": "76e36021",
   "metadata": {},
   "source": [
    "# In this notebook\n",
    "\n",
    "#### Building binary classifier for compound activity against a target.\n",
    "* Naive Bayes\n",
    "* Decision Tree\n",
    "* Random Forest\n",
    "* LSTM RNN\n",
    "* Evalutate the performance of this classifiers\n",
    "\n",
    "#### Performance\n",
    "\n",
    "| Classifier    | Acc | F1 |\n",
    "|---------------|-----|----|\n",
    "| Naive Bayes   | 0.715  | 0.722 |\n",
    "| Decision Tree | 0.754  | 0.739 |\n",
    "| Random Forest | 0.809  | 0.803 |\n",
    "| LSTM          | 0.711  | 0.705 |\n"
   ]
  },
  {
   "cell_type": "markdown",
   "id": "5147ed8f",
   "metadata": {},
   "source": [
    "[From lecture 8 of Cheminformatics OLCC 2019](https://chem.libretexts.org/Courses/Intercollegiate_Courses/Cheminformatics_OLCC_(2019\\))\n"
   ]
  },
  {
   "cell_type": "markdown",
   "id": "48a6108f",
   "metadata": {},
   "source": [
    "\n",
    "### 1. Background: Cytochrome P450 (CYP2D6)\n",
    "* Human CYP Enzymes few have major role in drug metabolism.\n",
    "* CYP2D6 is the second most important contributor to CYP450 mediated metabolism."
   ]
  },
  {
   "cell_type": "code",
   "execution_count": 1,
   "id": "d4f8de8a",
   "metadata": {},
   "outputs": [],
   "source": [
    "import pandas as pd\n",
    "import numpy as np\n",
    "import time\n",
    "import requests\n",
    "from io import StringIO\n",
    "from tqdm import tqdm\n",
    "import matplotlib.pyplot as plt"
   ]
  },
  {
   "cell_type": "markdown",
   "id": "b90e7fa3",
   "metadata": {},
   "source": [
    "### 2. Downloaded data for an assay (AID 891) from PubChem."
   ]
  },
  {
   "cell_type": "code",
   "execution_count": 2,
   "id": "e15801bc",
   "metadata": {},
   "outputs": [],
   "source": [
    "# Downloading data\n",
    "url = 'https://pubchem.ncbi.nlm.nih.gov/assay/pcget.cgi?query=download&record_type=datatable&actvty=all&response_type=save&aid=891'\n",
    "df_raw = pd.read_csv(url)"
   ]
  },
  {
   "cell_type": "code",
   "execution_count": 3,
   "id": "a08e3b2b",
   "metadata": {},
   "outputs": [
    {
     "data": {
      "text/html": [
       "<div>\n",
       "<style scoped>\n",
       "    .dataframe tbody tr th:only-of-type {\n",
       "        vertical-align: middle;\n",
       "    }\n",
       "\n",
       "    .dataframe tbody tr th {\n",
       "        vertical-align: top;\n",
       "    }\n",
       "\n",
       "    .dataframe thead th {\n",
       "        text-align: right;\n",
       "    }\n",
       "</style>\n",
       "<table border=\"1\" class=\"dataframe\">\n",
       "  <thead>\n",
       "    <tr style=\"text-align: right;\">\n",
       "      <th></th>\n",
       "      <th>PUBCHEM_RESULT_TAG</th>\n",
       "      <th>PUBCHEM_SID</th>\n",
       "      <th>PUBCHEM_CID</th>\n",
       "      <th>PUBCHEM_EXT_DATASOURCE_SMILES</th>\n",
       "      <th>PUBCHEM_ACTIVITY_OUTCOME</th>\n",
       "      <th>PUBCHEM_ACTIVITY_SCORE</th>\n",
       "      <th>PUBCHEM_ACTIVITY_URL</th>\n",
       "      <th>PUBCHEM_ASSAYDATA_COMMENT</th>\n",
       "      <th>Phenotype</th>\n",
       "      <th>Potency</th>\n",
       "      <th>...</th>\n",
       "      <th>Activity at 0.092 uM</th>\n",
       "      <th>Activity at 0.205 uM</th>\n",
       "      <th>Activity at 0.457 uM</th>\n",
       "      <th>Activity at 1.022 uM</th>\n",
       "      <th>Activity at 2.286 uM</th>\n",
       "      <th>Activity at 5.112 uM</th>\n",
       "      <th>Activity at 11.43 uM</th>\n",
       "      <th>Activity at 25.56 uM</th>\n",
       "      <th>Activity at 57.14 uM</th>\n",
       "      <th>Compound QC</th>\n",
       "    </tr>\n",
       "  </thead>\n",
       "  <tbody>\n",
       "    <tr>\n",
       "      <th>0</th>\n",
       "      <td>RESULT_TYPE</td>\n",
       "      <td>NaN</td>\n",
       "      <td>NaN</td>\n",
       "      <td>NaN</td>\n",
       "      <td>NaN</td>\n",
       "      <td>NaN</td>\n",
       "      <td>NaN</td>\n",
       "      <td>NaN</td>\n",
       "      <td>STRING</td>\n",
       "      <td>FLOAT</td>\n",
       "      <td>...</td>\n",
       "      <td>FLOAT</td>\n",
       "      <td>FLOAT</td>\n",
       "      <td>FLOAT</td>\n",
       "      <td>FLOAT</td>\n",
       "      <td>FLOAT</td>\n",
       "      <td>FLOAT</td>\n",
       "      <td>FLOAT</td>\n",
       "      <td>FLOAT</td>\n",
       "      <td>FLOAT</td>\n",
       "      <td>STRING</td>\n",
       "    </tr>\n",
       "    <tr>\n",
       "      <th>1</th>\n",
       "      <td>RESULT_DESCR</td>\n",
       "      <td>NaN</td>\n",
       "      <td>NaN</td>\n",
       "      <td>NaN</td>\n",
       "      <td>NaN</td>\n",
       "      <td>NaN</td>\n",
       "      <td>NaN</td>\n",
       "      <td>NaN</td>\n",
       "      <td>Indicates type of activity observed: inhibitor...</td>\n",
       "      <td>Concentration at which compound exhibits half-...</td>\n",
       "      <td>...</td>\n",
       "      <td>% Activity at given concentration.</td>\n",
       "      <td>% Activity at given concentration.</td>\n",
       "      <td>% Activity at given concentration.</td>\n",
       "      <td>% Activity at given concentration.</td>\n",
       "      <td>% Activity at given concentration.</td>\n",
       "      <td>% Activity at given concentration.</td>\n",
       "      <td>% Activity at given concentration.</td>\n",
       "      <td>% Activity at given concentration.</td>\n",
       "      <td>% Activity at given concentration.</td>\n",
       "      <td>NCGC designation for data stage: 'qHTS', 'qHTS...</td>\n",
       "    </tr>\n",
       "    <tr>\n",
       "      <th>2</th>\n",
       "      <td>RESULT_UNIT</td>\n",
       "      <td>NaN</td>\n",
       "      <td>NaN</td>\n",
       "      <td>NaN</td>\n",
       "      <td>NaN</td>\n",
       "      <td>NaN</td>\n",
       "      <td>NaN</td>\n",
       "      <td>NaN</td>\n",
       "      <td>NaN</td>\n",
       "      <td>MICROMOLAR</td>\n",
       "      <td>...</td>\n",
       "      <td>PERCENT</td>\n",
       "      <td>PERCENT</td>\n",
       "      <td>PERCENT</td>\n",
       "      <td>PERCENT</td>\n",
       "      <td>PERCENT</td>\n",
       "      <td>PERCENT</td>\n",
       "      <td>PERCENT</td>\n",
       "      <td>PERCENT</td>\n",
       "      <td>PERCENT</td>\n",
       "      <td>NaN</td>\n",
       "    </tr>\n",
       "    <tr>\n",
       "      <th>3</th>\n",
       "      <td>RESULT_IS_ACTIVE_CONCENTRATION</td>\n",
       "      <td>NaN</td>\n",
       "      <td>NaN</td>\n",
       "      <td>NaN</td>\n",
       "      <td>NaN</td>\n",
       "      <td>NaN</td>\n",
       "      <td>NaN</td>\n",
       "      <td>NaN</td>\n",
       "      <td>NaN</td>\n",
       "      <td>TRUE</td>\n",
       "      <td>...</td>\n",
       "      <td>NaN</td>\n",
       "      <td>NaN</td>\n",
       "      <td>NaN</td>\n",
       "      <td>NaN</td>\n",
       "      <td>NaN</td>\n",
       "      <td>NaN</td>\n",
       "      <td>NaN</td>\n",
       "      <td>NaN</td>\n",
       "      <td>NaN</td>\n",
       "      <td>NaN</td>\n",
       "    </tr>\n",
       "    <tr>\n",
       "      <th>4</th>\n",
       "      <td>RESULT_ATTR_CONC_MICROMOL</td>\n",
       "      <td>NaN</td>\n",
       "      <td>NaN</td>\n",
       "      <td>NaN</td>\n",
       "      <td>NaN</td>\n",
       "      <td>NaN</td>\n",
       "      <td>NaN</td>\n",
       "      <td>NaN</td>\n",
       "      <td>NaN</td>\n",
       "      <td>NaN</td>\n",
       "      <td>...</td>\n",
       "      <td>0.0915</td>\n",
       "      <td>0.2045</td>\n",
       "      <td>0.4572</td>\n",
       "      <td>1.0224</td>\n",
       "      <td>2.286</td>\n",
       "      <td>5.1115</td>\n",
       "      <td>11.4293</td>\n",
       "      <td>25.5558</td>\n",
       "      <td>57.1429</td>\n",
       "      <td>NaN</td>\n",
       "    </tr>\n",
       "    <tr>\n",
       "      <th>5</th>\n",
       "      <td>1</td>\n",
       "      <td>11113142.0</td>\n",
       "      <td>6604612.0</td>\n",
       "      <td>CC[C@@H]1CN2CC[C@@H]1C[C@H]2[C@H](C3=C4C=C(C=C...</td>\n",
       "      <td>Active</td>\n",
       "      <td>99.0</td>\n",
       "      <td>NaN</td>\n",
       "      <td>NaN</td>\n",
       "      <td>Inhibitor</td>\n",
       "      <td>0.0016</td>\n",
       "      <td>...</td>\n",
       "      <td>-85.03</td>\n",
       "      <td>-86.36</td>\n",
       "      <td>-95.24</td>\n",
       "      <td>-90.27</td>\n",
       "      <td>-88.79</td>\n",
       "      <td>-89.92</td>\n",
       "      <td>NaN</td>\n",
       "      <td>-100.4</td>\n",
       "      <td>-97.15</td>\n",
       "      <td>QC'd by Timtec</td>\n",
       "    </tr>\n",
       "    <tr>\n",
       "      <th>6</th>\n",
       "      <td>2</td>\n",
       "      <td>11113177.0</td>\n",
       "      <td>6604463.0</td>\n",
       "      <td>CN1C[C@@H](C[C@@]2([C@@H]1CC3=CN(C4=CC=CC2=C34...</td>\n",
       "      <td>Active</td>\n",
       "      <td>99.0</td>\n",
       "      <td>NaN</td>\n",
       "      <td>NaN</td>\n",
       "      <td>Inhibitor</td>\n",
       "      <td>0.0025</td>\n",
       "      <td>...</td>\n",
       "      <td>-83.39</td>\n",
       "      <td>-86.43</td>\n",
       "      <td>-96.46</td>\n",
       "      <td>-87.64</td>\n",
       "      <td>-88.42</td>\n",
       "      <td>-91.54</td>\n",
       "      <td>NaN</td>\n",
       "      <td>-101</td>\n",
       "      <td>-98.68</td>\n",
       "      <td>QC'd by Timtec</td>\n",
       "    </tr>\n",
       "  </tbody>\n",
       "</table>\n",
       "<p>7 rows × 37 columns</p>\n",
       "</div>"
      ],
      "text/plain": [
       "               PUBCHEM_RESULT_TAG  PUBCHEM_SID  PUBCHEM_CID  \\\n",
       "0                     RESULT_TYPE          NaN          NaN   \n",
       "1                    RESULT_DESCR          NaN          NaN   \n",
       "2                     RESULT_UNIT          NaN          NaN   \n",
       "3  RESULT_IS_ACTIVE_CONCENTRATION          NaN          NaN   \n",
       "4       RESULT_ATTR_CONC_MICROMOL          NaN          NaN   \n",
       "5                               1   11113142.0    6604612.0   \n",
       "6                               2   11113177.0    6604463.0   \n",
       "\n",
       "                       PUBCHEM_EXT_DATASOURCE_SMILES PUBCHEM_ACTIVITY_OUTCOME  \\\n",
       "0                                                NaN                      NaN   \n",
       "1                                                NaN                      NaN   \n",
       "2                                                NaN                      NaN   \n",
       "3                                                NaN                      NaN   \n",
       "4                                                NaN                      NaN   \n",
       "5  CC[C@@H]1CN2CC[C@@H]1C[C@H]2[C@H](C3=C4C=C(C=C...                   Active   \n",
       "6  CN1C[C@@H](C[C@@]2([C@@H]1CC3=CN(C4=CC=CC2=C34...                   Active   \n",
       "\n",
       "   PUBCHEM_ACTIVITY_SCORE  PUBCHEM_ACTIVITY_URL  PUBCHEM_ASSAYDATA_COMMENT  \\\n",
       "0                     NaN                   NaN                        NaN   \n",
       "1                     NaN                   NaN                        NaN   \n",
       "2                     NaN                   NaN                        NaN   \n",
       "3                     NaN                   NaN                        NaN   \n",
       "4                     NaN                   NaN                        NaN   \n",
       "5                    99.0                   NaN                        NaN   \n",
       "6                    99.0                   NaN                        NaN   \n",
       "\n",
       "                                           Phenotype  \\\n",
       "0                                             STRING   \n",
       "1  Indicates type of activity observed: inhibitor...   \n",
       "2                                                NaN   \n",
       "3                                                NaN   \n",
       "4                                                NaN   \n",
       "5                                          Inhibitor   \n",
       "6                                          Inhibitor   \n",
       "\n",
       "                                             Potency  ...  \\\n",
       "0                                              FLOAT  ...   \n",
       "1  Concentration at which compound exhibits half-...  ...   \n",
       "2                                         MICROMOLAR  ...   \n",
       "3                                               TRUE  ...   \n",
       "4                                                NaN  ...   \n",
       "5                                             0.0016  ...   \n",
       "6                                             0.0025  ...   \n",
       "\n",
       "                 Activity at 0.092 uM                Activity at 0.205 uM  \\\n",
       "0                               FLOAT                               FLOAT   \n",
       "1  % Activity at given concentration.  % Activity at given concentration.   \n",
       "2                             PERCENT                             PERCENT   \n",
       "3                                 NaN                                 NaN   \n",
       "4                              0.0915                              0.2045   \n",
       "5                              -85.03                              -86.36   \n",
       "6                              -83.39                              -86.43   \n",
       "\n",
       "                 Activity at 0.457 uM                Activity at 1.022 uM  \\\n",
       "0                               FLOAT                               FLOAT   \n",
       "1  % Activity at given concentration.  % Activity at given concentration.   \n",
       "2                             PERCENT                             PERCENT   \n",
       "3                                 NaN                                 NaN   \n",
       "4                              0.4572                              1.0224   \n",
       "5                              -95.24                              -90.27   \n",
       "6                              -96.46                              -87.64   \n",
       "\n",
       "                 Activity at 2.286 uM                Activity at 5.112 uM  \\\n",
       "0                               FLOAT                               FLOAT   \n",
       "1  % Activity at given concentration.  % Activity at given concentration.   \n",
       "2                             PERCENT                             PERCENT   \n",
       "3                                 NaN                                 NaN   \n",
       "4                               2.286                              5.1115   \n",
       "5                              -88.79                              -89.92   \n",
       "6                              -88.42                              -91.54   \n",
       "\n",
       "                 Activity at 11.43 uM                Activity at 25.56 uM  \\\n",
       "0                               FLOAT                               FLOAT   \n",
       "1  % Activity at given concentration.  % Activity at given concentration.   \n",
       "2                             PERCENT                             PERCENT   \n",
       "3                                 NaN                                 NaN   \n",
       "4                             11.4293                             25.5558   \n",
       "5                                 NaN                              -100.4   \n",
       "6                                 NaN                                -101   \n",
       "\n",
       "                 Activity at 57.14 uM  \\\n",
       "0                               FLOAT   \n",
       "1  % Activity at given concentration.   \n",
       "2                             PERCENT   \n",
       "3                                 NaN   \n",
       "4                             57.1429   \n",
       "5                              -97.15   \n",
       "6                              -98.68   \n",
       "\n",
       "                                         Compound QC  \n",
       "0                                             STRING  \n",
       "1  NCGC designation for data stage: 'qHTS', 'qHTS...  \n",
       "2                                                NaN  \n",
       "3                                                NaN  \n",
       "4                                                NaN  \n",
       "5                                     QC'd by Timtec  \n",
       "6                                     QC'd by Timtec  \n",
       "\n",
       "[7 rows x 37 columns]"
      ]
     },
     "execution_count": 3,
     "metadata": {},
     "output_type": "execute_result"
    }
   ],
   "source": [
    "df_raw.head(7)"
   ]
  },
  {
   "cell_type": "markdown",
   "id": "ee8a2e7b",
   "metadata": {},
   "source": [
    "The first 5 lines aren't needed so are dropped"
   ]
  },
  {
   "cell_type": "code",
   "execution_count": 4,
   "id": "ecb0ca7c",
   "metadata": {},
   "outputs": [],
   "source": [
    "df_raw = df_raw[5:]"
   ]
  },
  {
   "cell_type": "markdown",
   "id": "77146d7f",
   "metadata": {},
   "source": [
    "### 3. Preparing data to be used for training classifiers\n",
    "Checking ratio of inactive to active"
   ]
  },
  {
   "cell_type": "code",
   "execution_count": 5,
   "id": "28b0aade",
   "metadata": {},
   "outputs": [
    {
     "data": {
      "text/plain": [
       "Inactive        6822\n",
       "Active          1776\n",
       "Inconclusive    1722\n",
       "Name: PUBCHEM_ACTIVITY_OUTCOME, dtype: int64"
      ]
     },
     "execution_count": 5,
     "metadata": {},
     "output_type": "execute_result"
    }
   ],
   "source": [
    "df_raw['PUBCHEM_ACTIVITY_OUTCOME'].value_counts()"
   ]
  },
  {
   "cell_type": "markdown",
   "id": "a134bbd3",
   "metadata": {},
   "source": [
    "Removing inclonclusives"
   ]
  },
  {
   "cell_type": "code",
   "execution_count": 6,
   "id": "c68127f2",
   "metadata": {},
   "outputs": [],
   "source": [
    "df = df_raw[df_raw['PUBCHEM_ACTIVITY_OUTCOME'] != 'Inconclusive']"
   ]
  },
  {
   "cell_type": "markdown",
   "id": "b24fb10e",
   "metadata": {},
   "source": [
    "Removing entries with no CID (CID is needed to download the SMILES from PubChem)"
   ]
  },
  {
   "cell_type": "code",
   "execution_count": 7,
   "id": "10336b50",
   "metadata": {},
   "outputs": [
    {
     "data": {
      "text/plain": [
       "24"
      ]
     },
     "execution_count": 7,
     "metadata": {},
     "output_type": "execute_result"
    }
   ],
   "source": [
    "df_raw.PUBCHEM_CID.isna().sum()"
   ]
  },
  {
   "cell_type": "code",
   "execution_count": 8,
   "id": "1c46973f",
   "metadata": {},
   "outputs": [],
   "source": [
    "df = df.dropna(subset=['PUBCHEM_CID']).copy()"
   ]
  },
  {
   "cell_type": "markdown",
   "id": "f6b79b8d",
   "metadata": {},
   "source": [
    "Checking for duplicated CIDs with different activity classification"
   ]
  },
  {
   "cell_type": "code",
   "execution_count": 9,
   "id": "02a44229",
   "metadata": {},
   "outputs": [
    {
     "name": "stdout",
     "output_type": "stream",
     "text": [
      "# 72 CIDs with conflicting activities [associated with 175 rows (SIDs).]\n"
     ]
    }
   ],
   "source": [
    "cid_conflict = []\n",
    "idx_conflict = []\n",
    "\n",
    "for mycid in df['PUBCHEM_CID'].unique() :\n",
    "    \n",
    "    outcomes = df[ df.PUBCHEM_CID == mycid ].PUBCHEM_ACTIVITY_OUTCOME.unique()\n",
    "    \n",
    "    if len(outcomes) > 1 :\n",
    "        \n",
    "        idx_tmp = df.index[ df.PUBCHEM_CID == mycid ].tolist()\n",
    "        idx_conflict.extend(idx_tmp)\n",
    "        cid_conflict.append(mycid)\n",
    "\n",
    "print(\"#\", len(cid_conflict), \"CIDs with conflicting activities [associated with\", len(idx_conflict), \"rows (SIDs).]\")"
   ]
  },
  {
   "cell_type": "code",
   "execution_count": 10,
   "id": "289b73a0",
   "metadata": {},
   "outputs": [],
   "source": [
    "df = df.drop(idx_conflict)"
   ]
  },
  {
   "cell_type": "markdown",
   "id": "b5ef75de",
   "metadata": {},
   "source": [
    "Removing duplicates"
   ]
  },
  {
   "cell_type": "code",
   "execution_count": 11,
   "id": "48a1be6d",
   "metadata": {},
   "outputs": [
    {
     "data": {
      "text/plain": [
       "Inactive    6266\n",
       "Active      1551\n",
       "Name: PUBCHEM_ACTIVITY_OUTCOME, dtype: int64"
      ]
     },
     "execution_count": 11,
     "metadata": {},
     "output_type": "execute_result"
    }
   ],
   "source": [
    "df = df.drop_duplicates(subset='PUBCHEM_CID')  # remove duplicate rows except for the first occurring row.\n",
    "df.PUBCHEM_ACTIVITY_OUTCOME.value_counts()"
   ]
  },
  {
   "cell_type": "markdown",
   "id": "d18473c3",
   "metadata": {},
   "source": [
    "Adding a column with numerical values for activity"
   ]
  },
  {
   "cell_type": "code",
   "execution_count": 12,
   "id": "0b6e4036",
   "metadata": {},
   "outputs": [],
   "source": [
    "df['activity'] = [ 0 if x == 'Inactive' else 1 for x in df['PUBCHEM_ACTIVITY_OUTCOME'] ]"
   ]
  },
  {
   "cell_type": "code",
   "execution_count": 13,
   "id": "cff97081",
   "metadata": {},
   "outputs": [
    {
     "data": {
      "text/plain": [
       "0    6266\n",
       "1    1551\n",
       "Name: activity, dtype: int64"
      ]
     },
     "execution_count": 13,
     "metadata": {},
     "output_type": "execute_result"
    }
   ],
   "source": [
    "df.activity.value_counts()"
   ]
  },
  {
   "cell_type": "markdown",
   "id": "fd074a0e",
   "metadata": {},
   "source": [
    "Creating dataset for building classifier"
   ]
  },
  {
   "cell_type": "code",
   "execution_count": 14,
   "id": "0f9f1809",
   "metadata": {},
   "outputs": [
    {
     "data": {
      "text/plain": [
       "0    1551\n",
       "1    1551\n",
       "Name: activity, dtype: int64"
      ]
     },
     "execution_count": 14,
     "metadata": {},
     "output_type": "execute_result"
    }
   ],
   "source": [
    "df_activity = df[['PUBCHEM_CID', 'activity']].copy()\n",
    "actives = df_activity[df_activity.activity == 1]\n",
    "inactives = df_activity[df_activity.activity == 0].sample(len(actives))\n",
    "df_activity = pd.concat([actives, inactives])\n",
    "df_activity.activity.value_counts()"
   ]
  },
  {
   "cell_type": "markdown",
   "id": "f3a9f76a",
   "metadata": {},
   "source": [
    "Downloading SMILES for all compounds"
   ]
  },
  {
   "cell_type": "code",
   "execution_count": 15,
   "id": "b07be221",
   "metadata": {},
   "outputs": [
    {
     "name": "stdout",
     "output_type": "stream",
     "text": [
      "# CIDs =  3102\n",
      "# CID Chunks =  16 (chunked by  200 )\n"
     ]
    },
    {
     "name": "stderr",
     "output_type": "stream",
     "text": [
      "100%|███████████████████████████████████████████| 16/16 [00:11<00:00,  1.38it/s]\n"
     ]
    },
    {
     "data": {
      "text/html": [
       "<div>\n",
       "<style scoped>\n",
       "    .dataframe tbody tr th:only-of-type {\n",
       "        vertical-align: middle;\n",
       "    }\n",
       "\n",
       "    .dataframe tbody tr th {\n",
       "        vertical-align: top;\n",
       "    }\n",
       "\n",
       "    .dataframe thead th {\n",
       "        text-align: right;\n",
       "    }\n",
       "</style>\n",
       "<table border=\"1\" class=\"dataframe\">\n",
       "  <thead>\n",
       "    <tr style=\"text-align: right;\">\n",
       "      <th></th>\n",
       "      <th>smiles</th>\n",
       "      <th>cid</th>\n",
       "    </tr>\n",
       "  </thead>\n",
       "  <tbody>\n",
       "    <tr>\n",
       "      <th>0</th>\n",
       "      <td>CC[C@@H]1CN2CC[C@@H]1C[C@H]2[C@H](C3=C4C=C(C=C...</td>\n",
       "      <td>6604612</td>\n",
       "    </tr>\n",
       "    <tr>\n",
       "      <th>1</th>\n",
       "      <td>CN1C[C@@H](C[C@@]2([C@@H]1CC3=CN(C4=CC=CC2=C34...</td>\n",
       "      <td>6604463</td>\n",
       "    </tr>\n",
       "    <tr>\n",
       "      <th>2</th>\n",
       "      <td>C[C@H]1[C@H]2CN3CCC4=C([C@@H]3C[C@@H]2C(=CO1)C...</td>\n",
       "      <td>441975</td>\n",
       "    </tr>\n",
       "    <tr>\n",
       "      <th>3</th>\n",
       "      <td>CC(C)C1=NC(=C(C=C1)C(=O)C2=CC=CS2)SCCCCCCCCNC....</td>\n",
       "      <td>6604953</td>\n",
       "    </tr>\n",
       "    <tr>\n",
       "      <th>4</th>\n",
       "      <td>CC[C@@H](C(=O)OC1C[C@H]2CC[C@@H](C1)N2C)OC3=CC...</td>\n",
       "      <td>6604753</td>\n",
       "    </tr>\n",
       "  </tbody>\n",
       "</table>\n",
       "</div>"
      ],
      "text/plain": [
       "                                              smiles      cid\n",
       "0  CC[C@@H]1CN2CC[C@@H]1C[C@H]2[C@H](C3=C4C=C(C=C...  6604612\n",
       "1  CN1C[C@@H](C[C@@]2([C@@H]1CC3=CN(C4=CC=CC2=C34...  6604463\n",
       "2  C[C@H]1[C@H]2CN3CCC4=C([C@@H]3C[C@@H]2C(=CO1)C...   441975\n",
       "3  CC(C)C1=NC(=C(C=C1)C(=O)C2=CC=CS2)SCCCCCCCCNC....  6604953\n",
       "4  CC[C@@H](C(=O)OC1C[C@H]2CC[C@@H](C1)N2C)OC3=CC...  6604753"
      ]
     },
     "execution_count": 15,
     "metadata": {},
     "output_type": "execute_result"
    }
   ],
   "source": [
    "cids = df_activity.PUBCHEM_CID.astype(int).tolist()\n",
    "\n",
    "chunk_size = 200\n",
    "num_cids = len(cids)\n",
    "\n",
    "if num_cids % chunk_size == 0 :\n",
    "    num_chunks = int( num_cids / chunk_size )\n",
    "else :\n",
    "    num_chunks = int( num_cids / chunk_size ) + 1\n",
    "\n",
    "print(\"# CIDs = \", num_cids)\n",
    "print(\"# CID Chunks = \", num_chunks, \"(chunked by \", chunk_size, \")\")\n",
    "\n",
    "import time\n",
    "import requests\n",
    "from io import StringIO\n",
    "from tqdm import tqdm\n",
    "\n",
    "df_smiles = pd.DataFrame()\n",
    "list_dfs = []  # temporary list of data frames\n",
    "\n",
    "for i in tqdm(range(0, num_chunks)):\n",
    "    \n",
    "    idx1 = chunk_size * i\n",
    "    idx2 = chunk_size * (i + 1)\n",
    "    cidstr = \",\".join( str(x) for x in cids[idx1:idx2] )\n",
    "\n",
    "    url = ('https://pubchem.ncbi.nlm.nih.gov/rest/pug/compound/cid/' + cidstr + '/property/IsomericSMILES/TXT')\n",
    "    res = requests.get(url)\n",
    "    data = pd.read_csv( StringIO(res.text), header=None, names=['smiles'] )\n",
    "    list_dfs.append(data)\n",
    "    \n",
    "    time.sleep(0.2)  \n",
    "\n",
    "#    if ( i == 2 ) : break  #- for debugging\n",
    "\n",
    "df_smiles = pd.concat(list_dfs,ignore_index=True)\n",
    "df_smiles[ 'cid' ] = cids\n",
    "df_smiles.head(5)"
   ]
  },
  {
   "cell_type": "markdown",
   "id": "88b156f1",
   "metadata": {},
   "source": [
    "Generating fingerprints for all compounds"
   ]
  },
  {
   "cell_type": "code",
   "execution_count": 16,
   "id": "606dff34",
   "metadata": {},
   "outputs": [],
   "source": [
    "from rdkit import Chem\n",
    "from rdkit.Chem import MACCSkeys"
   ]
  },
  {
   "cell_type": "code",
   "execution_count": 17,
   "id": "e85d84d5",
   "metadata": {},
   "outputs": [],
   "source": [
    "fps=dict()\n",
    "\n",
    "for idx, row in df_smiles.iterrows() :\n",
    "    \n",
    "    mol = Chem.MolFromSmiles(row.smiles)\n",
    "    \n",
    "    if mol == None :\n",
    "        print(\"Can't generate MOL object:\", \"CID\", row.cid, row.smiles)\n",
    "    else:\n",
    "        fps[row.cid] = [row.cid] + list(MACCSkeys.GenMACCSKeys(mol).ToBitString())"
   ]
  },
  {
   "cell_type": "code",
   "execution_count": 18,
   "id": "1d3dc409",
   "metadata": {},
   "outputs": [],
   "source": [
    "# Generate column names\n",
    "fpbitnames = []\n",
    "\n",
    "fpbitnames.append('cid')\n",
    "\n",
    "for i in range(0,167):   # from MACCS000 to MACCS166\n",
    "    fpbitnames.append( \"maccs\" + str(i).zfill(3) )\n",
    "\n",
    "df_fps = pd.DataFrame.from_dict(fps, orient='index', columns=fpbitnames)"
   ]
  },
  {
   "cell_type": "code",
   "execution_count": 19,
   "id": "b8300338",
   "metadata": {},
   "outputs": [
    {
     "data": {
      "text/html": [
       "<div>\n",
       "<style scoped>\n",
       "    .dataframe tbody tr th:only-of-type {\n",
       "        vertical-align: middle;\n",
       "    }\n",
       "\n",
       "    .dataframe tbody tr th {\n",
       "        vertical-align: top;\n",
       "    }\n",
       "\n",
       "    .dataframe thead th {\n",
       "        text-align: right;\n",
       "    }\n",
       "</style>\n",
       "<table border=\"1\" class=\"dataframe\">\n",
       "  <thead>\n",
       "    <tr style=\"text-align: right;\">\n",
       "      <th></th>\n",
       "      <th>cid</th>\n",
       "      <th>maccs000</th>\n",
       "      <th>maccs001</th>\n",
       "      <th>maccs002</th>\n",
       "      <th>maccs003</th>\n",
       "      <th>maccs004</th>\n",
       "      <th>maccs005</th>\n",
       "      <th>maccs006</th>\n",
       "      <th>maccs007</th>\n",
       "      <th>maccs008</th>\n",
       "      <th>...</th>\n",
       "      <th>maccs157</th>\n",
       "      <th>maccs158</th>\n",
       "      <th>maccs159</th>\n",
       "      <th>maccs160</th>\n",
       "      <th>maccs161</th>\n",
       "      <th>maccs162</th>\n",
       "      <th>maccs163</th>\n",
       "      <th>maccs164</th>\n",
       "      <th>maccs165</th>\n",
       "      <th>maccs166</th>\n",
       "    </tr>\n",
       "  </thead>\n",
       "  <tbody>\n",
       "    <tr>\n",
       "      <th>6604612</th>\n",
       "      <td>6604612</td>\n",
       "      <td>0</td>\n",
       "      <td>0</td>\n",
       "      <td>0</td>\n",
       "      <td>0</td>\n",
       "      <td>0</td>\n",
       "      <td>0</td>\n",
       "      <td>0</td>\n",
       "      <td>0</td>\n",
       "      <td>0</td>\n",
       "      <td>...</td>\n",
       "      <td>1</td>\n",
       "      <td>1</td>\n",
       "      <td>1</td>\n",
       "      <td>1</td>\n",
       "      <td>1</td>\n",
       "      <td>1</td>\n",
       "      <td>1</td>\n",
       "      <td>1</td>\n",
       "      <td>1</td>\n",
       "      <td>0</td>\n",
       "    </tr>\n",
       "    <tr>\n",
       "      <th>6604463</th>\n",
       "      <td>6604463</td>\n",
       "      <td>0</td>\n",
       "      <td>0</td>\n",
       "      <td>0</td>\n",
       "      <td>0</td>\n",
       "      <td>0</td>\n",
       "      <td>0</td>\n",
       "      <td>0</td>\n",
       "      <td>0</td>\n",
       "      <td>0</td>\n",
       "      <td>...</td>\n",
       "      <td>1</td>\n",
       "      <td>1</td>\n",
       "      <td>1</td>\n",
       "      <td>1</td>\n",
       "      <td>1</td>\n",
       "      <td>1</td>\n",
       "      <td>1</td>\n",
       "      <td>1</td>\n",
       "      <td>1</td>\n",
       "      <td>0</td>\n",
       "    </tr>\n",
       "    <tr>\n",
       "      <th>441975</th>\n",
       "      <td>441975</td>\n",
       "      <td>0</td>\n",
       "      <td>0</td>\n",
       "      <td>0</td>\n",
       "      <td>0</td>\n",
       "      <td>0</td>\n",
       "      <td>0</td>\n",
       "      <td>0</td>\n",
       "      <td>0</td>\n",
       "      <td>0</td>\n",
       "      <td>...</td>\n",
       "      <td>1</td>\n",
       "      <td>1</td>\n",
       "      <td>1</td>\n",
       "      <td>1</td>\n",
       "      <td>1</td>\n",
       "      <td>1</td>\n",
       "      <td>1</td>\n",
       "      <td>1</td>\n",
       "      <td>1</td>\n",
       "      <td>0</td>\n",
       "    </tr>\n",
       "    <tr>\n",
       "      <th>6604953</th>\n",
       "      <td>6604953</td>\n",
       "      <td>0</td>\n",
       "      <td>0</td>\n",
       "      <td>0</td>\n",
       "      <td>0</td>\n",
       "      <td>0</td>\n",
       "      <td>0</td>\n",
       "      <td>0</td>\n",
       "      <td>0</td>\n",
       "      <td>0</td>\n",
       "      <td>...</td>\n",
       "      <td>1</td>\n",
       "      <td>1</td>\n",
       "      <td>1</td>\n",
       "      <td>1</td>\n",
       "      <td>1</td>\n",
       "      <td>1</td>\n",
       "      <td>1</td>\n",
       "      <td>1</td>\n",
       "      <td>1</td>\n",
       "      <td>1</td>\n",
       "    </tr>\n",
       "    <tr>\n",
       "      <th>6604753</th>\n",
       "      <td>6604753</td>\n",
       "      <td>0</td>\n",
       "      <td>0</td>\n",
       "      <td>0</td>\n",
       "      <td>0</td>\n",
       "      <td>0</td>\n",
       "      <td>0</td>\n",
       "      <td>0</td>\n",
       "      <td>0</td>\n",
       "      <td>0</td>\n",
       "      <td>...</td>\n",
       "      <td>1</td>\n",
       "      <td>1</td>\n",
       "      <td>1</td>\n",
       "      <td>1</td>\n",
       "      <td>1</td>\n",
       "      <td>1</td>\n",
       "      <td>1</td>\n",
       "      <td>1</td>\n",
       "      <td>1</td>\n",
       "      <td>0</td>\n",
       "    </tr>\n",
       "  </tbody>\n",
       "</table>\n",
       "<p>5 rows × 168 columns</p>\n",
       "</div>"
      ],
      "text/plain": [
       "             cid maccs000 maccs001 maccs002 maccs003 maccs004 maccs005  \\\n",
       "6604612  6604612        0        0        0        0        0        0   \n",
       "6604463  6604463        0        0        0        0        0        0   \n",
       "441975    441975        0        0        0        0        0        0   \n",
       "6604953  6604953        0        0        0        0        0        0   \n",
       "6604753  6604753        0        0        0        0        0        0   \n",
       "\n",
       "        maccs006 maccs007 maccs008  ... maccs157 maccs158 maccs159 maccs160  \\\n",
       "6604612        0        0        0  ...        1        1        1        1   \n",
       "6604463        0        0        0  ...        1        1        1        1   \n",
       "441975         0        0        0  ...        1        1        1        1   \n",
       "6604953        0        0        0  ...        1        1        1        1   \n",
       "6604753        0        0        0  ...        1        1        1        1   \n",
       "\n",
       "        maccs161 maccs162 maccs163 maccs164 maccs165 maccs166  \n",
       "6604612        1        1        1        1        1        0  \n",
       "6604463        1        1        1        1        1        0  \n",
       "441975         1        1        1        1        1        0  \n",
       "6604953        1        1        1        1        1        1  \n",
       "6604753        1        1        1        1        1        0  \n",
       "\n",
       "[5 rows x 168 columns]"
      ]
     },
     "execution_count": 19,
     "metadata": {},
     "output_type": "execute_result"
    }
   ],
   "source": [
    "df_fps.head(5)"
   ]
  },
  {
   "cell_type": "code",
   "execution_count": 20,
   "id": "673c25ec",
   "metadata": {},
   "outputs": [],
   "source": [
    "df_activity.rename(columns = {'PUBCHEM_CID':'cid'}, inplace = True)"
   ]
  },
  {
   "cell_type": "code",
   "execution_count": 21,
   "id": "0ae55943",
   "metadata": {},
   "outputs": [
    {
     "data": {
      "text/html": [
       "<div>\n",
       "<style scoped>\n",
       "    .dataframe tbody tr th:only-of-type {\n",
       "        vertical-align: middle;\n",
       "    }\n",
       "\n",
       "    .dataframe tbody tr th {\n",
       "        vertical-align: top;\n",
       "    }\n",
       "\n",
       "    .dataframe thead th {\n",
       "        text-align: right;\n",
       "    }\n",
       "</style>\n",
       "<table border=\"1\" class=\"dataframe\">\n",
       "  <thead>\n",
       "    <tr style=\"text-align: right;\">\n",
       "      <th></th>\n",
       "      <th>cid</th>\n",
       "      <th>activity</th>\n",
       "      <th>maccs000</th>\n",
       "      <th>maccs001</th>\n",
       "      <th>maccs002</th>\n",
       "      <th>maccs003</th>\n",
       "      <th>maccs004</th>\n",
       "      <th>maccs005</th>\n",
       "      <th>maccs006</th>\n",
       "      <th>maccs007</th>\n",
       "      <th>...</th>\n",
       "      <th>maccs157</th>\n",
       "      <th>maccs158</th>\n",
       "      <th>maccs159</th>\n",
       "      <th>maccs160</th>\n",
       "      <th>maccs161</th>\n",
       "      <th>maccs162</th>\n",
       "      <th>maccs163</th>\n",
       "      <th>maccs164</th>\n",
       "      <th>maccs165</th>\n",
       "      <th>maccs166</th>\n",
       "    </tr>\n",
       "  </thead>\n",
       "  <tbody>\n",
       "    <tr>\n",
       "      <th>5</th>\n",
       "      <td>6604612.0</td>\n",
       "      <td>1</td>\n",
       "      <td>0</td>\n",
       "      <td>0</td>\n",
       "      <td>0</td>\n",
       "      <td>0</td>\n",
       "      <td>0</td>\n",
       "      <td>0</td>\n",
       "      <td>0</td>\n",
       "      <td>0</td>\n",
       "      <td>...</td>\n",
       "      <td>1</td>\n",
       "      <td>1</td>\n",
       "      <td>1</td>\n",
       "      <td>1</td>\n",
       "      <td>1</td>\n",
       "      <td>1</td>\n",
       "      <td>1</td>\n",
       "      <td>1</td>\n",
       "      <td>1</td>\n",
       "      <td>0</td>\n",
       "    </tr>\n",
       "    <tr>\n",
       "      <th>6</th>\n",
       "      <td>6604463.0</td>\n",
       "      <td>1</td>\n",
       "      <td>0</td>\n",
       "      <td>0</td>\n",
       "      <td>0</td>\n",
       "      <td>0</td>\n",
       "      <td>0</td>\n",
       "      <td>0</td>\n",
       "      <td>0</td>\n",
       "      <td>0</td>\n",
       "      <td>...</td>\n",
       "      <td>1</td>\n",
       "      <td>1</td>\n",
       "      <td>1</td>\n",
       "      <td>1</td>\n",
       "      <td>1</td>\n",
       "      <td>1</td>\n",
       "      <td>1</td>\n",
       "      <td>1</td>\n",
       "      <td>1</td>\n",
       "      <td>0</td>\n",
       "    </tr>\n",
       "    <tr>\n",
       "      <th>7</th>\n",
       "      <td>441975.0</td>\n",
       "      <td>1</td>\n",
       "      <td>0</td>\n",
       "      <td>0</td>\n",
       "      <td>0</td>\n",
       "      <td>0</td>\n",
       "      <td>0</td>\n",
       "      <td>0</td>\n",
       "      <td>0</td>\n",
       "      <td>0</td>\n",
       "      <td>...</td>\n",
       "      <td>1</td>\n",
       "      <td>1</td>\n",
       "      <td>1</td>\n",
       "      <td>1</td>\n",
       "      <td>1</td>\n",
       "      <td>1</td>\n",
       "      <td>1</td>\n",
       "      <td>1</td>\n",
       "      <td>1</td>\n",
       "      <td>0</td>\n",
       "    </tr>\n",
       "    <tr>\n",
       "      <th>8</th>\n",
       "      <td>6604953.0</td>\n",
       "      <td>1</td>\n",
       "      <td>0</td>\n",
       "      <td>0</td>\n",
       "      <td>0</td>\n",
       "      <td>0</td>\n",
       "      <td>0</td>\n",
       "      <td>0</td>\n",
       "      <td>0</td>\n",
       "      <td>0</td>\n",
       "      <td>...</td>\n",
       "      <td>1</td>\n",
       "      <td>1</td>\n",
       "      <td>1</td>\n",
       "      <td>1</td>\n",
       "      <td>1</td>\n",
       "      <td>1</td>\n",
       "      <td>1</td>\n",
       "      <td>1</td>\n",
       "      <td>1</td>\n",
       "      <td>1</td>\n",
       "    </tr>\n",
       "    <tr>\n",
       "      <th>9</th>\n",
       "      <td>6604753.0</td>\n",
       "      <td>1</td>\n",
       "      <td>0</td>\n",
       "      <td>0</td>\n",
       "      <td>0</td>\n",
       "      <td>0</td>\n",
       "      <td>0</td>\n",
       "      <td>0</td>\n",
       "      <td>0</td>\n",
       "      <td>0</td>\n",
       "      <td>...</td>\n",
       "      <td>1</td>\n",
       "      <td>1</td>\n",
       "      <td>1</td>\n",
       "      <td>1</td>\n",
       "      <td>1</td>\n",
       "      <td>1</td>\n",
       "      <td>1</td>\n",
       "      <td>1</td>\n",
       "      <td>1</td>\n",
       "      <td>0</td>\n",
       "    </tr>\n",
       "  </tbody>\n",
       "</table>\n",
       "<p>5 rows × 169 columns</p>\n",
       "</div>"
      ],
      "text/plain": [
       "         cid  activity maccs000 maccs001 maccs002 maccs003 maccs004 maccs005  \\\n",
       "5  6604612.0         1        0        0        0        0        0        0   \n",
       "6  6604463.0         1        0        0        0        0        0        0   \n",
       "7   441975.0         1        0        0        0        0        0        0   \n",
       "8  6604953.0         1        0        0        0        0        0        0   \n",
       "9  6604753.0         1        0        0        0        0        0        0   \n",
       "\n",
       "  maccs006 maccs007  ... maccs157 maccs158 maccs159 maccs160 maccs161  \\\n",
       "5        0        0  ...        1        1        1        1        1   \n",
       "6        0        0  ...        1        1        1        1        1   \n",
       "7        0        0  ...        1        1        1        1        1   \n",
       "8        0        0  ...        1        1        1        1        1   \n",
       "9        0        0  ...        1        1        1        1        1   \n",
       "\n",
       "  maccs162 maccs163 maccs164 maccs165 maccs166  \n",
       "5        1        1        1        1        0  \n",
       "6        1        1        1        1        0  \n",
       "7        1        1        1        1        0  \n",
       "8        1        1        1        1        1  \n",
       "9        1        1        1        1        0  \n",
       "\n",
       "[5 rows x 169 columns]"
      ]
     },
     "execution_count": 21,
     "metadata": {},
     "output_type": "execute_result"
    }
   ],
   "source": [
    "df_data = df_activity.join(df_fps.set_index('cid'), on='cid')\n",
    "df_data.head()"
   ]
  },
  {
   "cell_type": "code",
   "execution_count": 22,
   "id": "1e5585e4",
   "metadata": {},
   "outputs": [
    {
     "data": {
      "text/plain": [
       "3102"
      ]
     },
     "execution_count": 22,
     "metadata": {},
     "output_type": "execute_result"
    }
   ],
   "source": [
    "df_data = df_data.dropna()\n",
    "len(df_data)"
   ]
  },
  {
   "cell_type": "markdown",
   "id": "a571740d",
   "metadata": {},
   "source": [
    "Saving data"
   ]
  },
  {
   "cell_type": "code",
   "execution_count": 23,
   "id": "59404cbf",
   "metadata": {},
   "outputs": [],
   "source": [
    "df_data.to_csv('df_data.csv')\n",
    "# df_data = pd.read_csv('df_data.csv')"
   ]
  },
  {
   "cell_type": "markdown",
   "id": "6967f855",
   "metadata": {},
   "source": [
    "### 4. Training Classifiers - Data Preparation"
   ]
  },
  {
   "cell_type": "code",
   "execution_count": 24,
   "id": "dfe19f78",
   "metadata": {},
   "outputs": [],
   "source": [
    "X = df_data.iloc[:,2:]\n",
    "y = df_data['activity'].values"
   ]
  },
  {
   "cell_type": "code",
   "execution_count": 25,
   "id": "917f14b6",
   "metadata": {},
   "outputs": [],
   "source": [
    "from sklearn.feature_selection import VarianceThreshold"
   ]
  },
  {
   "cell_type": "code",
   "execution_count": 26,
   "id": "c3600688",
   "metadata": {},
   "outputs": [
    {
     "data": {
      "text/plain": [
       "(3102, 160)"
      ]
     },
     "execution_count": 26,
     "metadata": {},
     "output_type": "execute_result"
    }
   ],
   "source": [
    "sel = VarianceThreshold()\n",
    "X=sel.fit_transform(X)\n",
    "X.shape  #- After removal"
   ]
  },
  {
   "cell_type": "code",
   "execution_count": 27,
   "id": "fd730b8e",
   "metadata": {},
   "outputs": [
    {
     "name": "stdout",
     "output_type": "stream",
     "text": [
      "(2171, 160) (931, 160) (2171,) (931,)\n",
      "1085 466\n"
     ]
    }
   ],
   "source": [
    "from sklearn.model_selection import train_test_split\n",
    "\n",
    "X_train, X_test, y_train, y_test = \\\n",
    "    train_test_split(X, y, shuffle=True, random_state=3100, stratify=y, test_size=0.3)\n",
    "\n",
    "print(X_train.shape, X_test.shape, y_train.shape, y_test.shape)\n",
    "print(y_train.sum(), y_test.sum())"
   ]
  },
  {
   "cell_type": "code",
   "execution_count": 28,
   "id": "4e863e8b",
   "metadata": {},
   "outputs": [],
   "source": [
    "from sklearn.metrics import classification_report\n",
    "from sklearn.metrics import confusion_matrix \n",
    "from sklearn.metrics import accuracy_score\n",
    "from sklearn.metrics import roc_auc_score\n",
    "from sklearn.metrics import f1_score"
   ]
  },
  {
   "cell_type": "code",
   "execution_count": 29,
   "id": "91081bba",
   "metadata": {},
   "outputs": [],
   "source": [
    "def performance_analysis(model):\n",
    "    from sklearn.metrics import f1_score\n",
    "    \n",
    "    y_true, y_pred = y_train, model.predict(X_train)\n",
    "    CMat = confusion_matrix( y_true, y_pred )\n",
    "    \n",
    "    print(\"Using Training Data\")\n",
    "    print(\"Confusion Matrix\")\n",
    "    print(CMat, '\\n')    # [[TN, FP],[FN, TP]]\n",
    "    acc  = accuracy_score(y_true, y_pred)\n",
    "    f1 = f1_score(y_true, y_pred)\n",
    "    y_score = model.predict_proba(X_train)[:, 1]\n",
    "    auc = roc_auc_score(y_true, y_score)\n",
    "    print(f\"Accuracy: {acc}\\nF1 Score: {f1}\\nROC AUC {auc}\\n\")\n",
    "    \n",
    "    y_true, y_pred = y_test, model.predict(X_test)\n",
    "    CMat = confusion_matrix( y_true, y_pred )\n",
    "    \n",
    "    print(\"Using Test Data\")\n",
    "    print(\"Confusion Matrix\")\n",
    "    print(CMat, '\\n')    # [[TN, FP],[FN, TP]]\n",
    "    acc  = accuracy_score(y_true, y_pred)\n",
    "    f1 = f1_score(y_true, y_pred)\n",
    "    y_score = model.predict_proba(X_test)[:, 1]\n",
    "    auc = roc_auc_score(y_true, y_score)\n",
    "    print(f\"Accuracy: {acc}\\nF1 Score: {f1}\\nROC AUC {auc}\")\n",
    "    print(\"\\n\")\n",
    "    print(classification_report(y_true, y_pred))"
   ]
  },
  {
   "cell_type": "markdown",
   "id": "050bc21d",
   "metadata": {},
   "source": [
    "### 4.1 Training a Naive Bayes Classifier"
   ]
  },
  {
   "cell_type": "code",
   "execution_count": 30,
   "id": "0fb6bac5",
   "metadata": {},
   "outputs": [
    {
     "name": "stdout",
     "output_type": "stream",
     "text": [
      "Using Training Data\n",
      "Confusion Matrix\n",
      "[[722 364]\n",
      " [265 820]] \n",
      "\n",
      "Accuracy: 0.7102717641639797\n",
      "F1 Score: 0.7227853680035258\n",
      "ROC AUC 0.7854299802259168\n",
      "\n",
      "Using Test Data\n",
      "Confusion Matrix\n",
      "[[321 144]\n",
      " [121 345]] \n",
      "\n",
      "Accuracy: 0.715359828141783\n",
      "F1 Score: 0.7225130890052357\n",
      "ROC AUC 0.7830818219576354\n",
      "\n",
      "\n",
      "              precision    recall  f1-score   support\n",
      "\n",
      "           0       0.73      0.69      0.71       465\n",
      "           1       0.71      0.74      0.72       466\n",
      "\n",
      "    accuracy                           0.72       931\n",
      "   macro avg       0.72      0.72      0.72       931\n",
      "weighted avg       0.72      0.72      0.72       931\n",
      "\n"
     ]
    }
   ],
   "source": [
    "from sklearn.naive_bayes import BernoulliNB\n",
    "\n",
    "nb_clf = BernoulliNB()            # set up the NB classification model\n",
    "nb_clf.fit(X_train ,y_train)    # Train the model by fitting it to the data.\n",
    "\n",
    "performance_analysis(nb_clf)"
   ]
  },
  {
   "cell_type": "markdown",
   "id": "759ac21d",
   "metadata": {},
   "source": [
    "### 4.2 Training a Simple Decision Tree Classifier"
   ]
  },
  {
   "cell_type": "code",
   "execution_count": 31,
   "id": "baefb506",
   "metadata": {},
   "outputs": [
    {
     "name": "stdout",
     "output_type": "stream",
     "text": [
      "Using Training Data\n",
      "Confusion Matrix\n",
      "[[1085    1]\n",
      " [  18 1067]] \n",
      "\n",
      "Accuracy: 0.9912482726853984\n",
      "F1 Score: 0.9911751045053413\n",
      "ROC AUC 0.9998463901689708\n",
      "\n",
      "Using Test Data\n",
      "Confusion Matrix\n",
      "[[351 114]\n",
      " [126 340]] \n",
      "\n",
      "Accuracy: 0.7422126745435016\n",
      "F1 Score: 0.7391304347826086\n",
      "ROC AUC 0.7502838155890905\n",
      "\n",
      "\n",
      "              precision    recall  f1-score   support\n",
      "\n",
      "           0       0.74      0.75      0.75       465\n",
      "           1       0.75      0.73      0.74       466\n",
      "\n",
      "    accuracy                           0.74       931\n",
      "   macro avg       0.74      0.74      0.74       931\n",
      "weighted avg       0.74      0.74      0.74       931\n",
      "\n"
     ]
    }
   ],
   "source": [
    "from sklearn.tree import DecisionTreeClassifier\n",
    "\n",
    "dt_clf = DecisionTreeClassifier(random_state=0)\n",
    "dt_clf.fit(X_train ,y_train)\n",
    "\n",
    "performance_analysis(dt_clf)"
   ]
  },
  {
   "cell_type": "markdown",
   "id": "dc015dff",
   "metadata": {},
   "source": [
    "Optimizing decision tree"
   ]
  },
  {
   "cell_type": "code",
   "execution_count": 32,
   "id": "dcdd5a32",
   "metadata": {},
   "outputs": [],
   "source": [
    "from sklearn.model_selection import GridSearchCV"
   ]
  },
  {
   "cell_type": "code",
   "execution_count": 33,
   "id": "e7c4aa55",
   "metadata": {},
   "outputs": [],
   "source": [
    "scores = [ 'roc_auc', 'balanced_accuracy' ]"
   ]
  },
  {
   "cell_type": "code",
   "execution_count": 34,
   "id": "b3565ab1",
   "metadata": {},
   "outputs": [],
   "source": [
    "ncvs = 10\n",
    "\n",
    "max_depth_range         = np.linspace( 3, 7, num=5, dtype='int32' )\n",
    "min_samples_split_range = np.linspace( 3, 7, num=5, dtype='int32' )\n",
    "min_samples_leaf_range  = np.linspace( 2, 6, num=5, dtype='int32' )\n",
    "\n",
    "param_grid = dict( max_depth=max_depth_range,\n",
    "                   min_samples_split=min_samples_split_range,\n",
    "                   min_samples_leaf=min_samples_leaf_range )\n",
    "\n",
    "clf = GridSearchCV( DecisionTreeClassifier( random_state=0 ),\n",
    "                    param_grid=param_grid, cv=ncvs, scoring=scores, refit='roc_auc',\n",
    "                    return_train_score = True)"
   ]
  },
  {
   "cell_type": "code",
   "execution_count": 35,
   "id": "17107d66",
   "metadata": {},
   "outputs": [
    {
     "name": "stdout",
     "output_type": "stream",
     "text": [
      "Best parameter set {'max_depth': 7, 'min_samples_leaf': 6, 'min_samples_split': 3}\n"
     ]
    }
   ],
   "source": [
    "clf.fit( X_train, y_train )\n",
    "print(\"Best parameter set\", clf.best_params_)"
   ]
  },
  {
   "cell_type": "code",
   "execution_count": 36,
   "id": "1a6caf9c",
   "metadata": {},
   "outputs": [
    {
     "name": "stdout",
     "output_type": "stream",
     "text": [
      "Grid {'max_depth': 3, 'min_samples_leaf': 2, 'min_samples_split': 3} : 0.7850 0.0036 0.7745 0.0335 0.7265 0.0041 0.7149 0.0363\n",
      "Grid {'max_depth': 3, 'min_samples_leaf': 2, 'min_samples_split': 4} : 0.7850 0.0036 0.7745 0.0335 0.7265 0.0041 0.7149 0.0363\n",
      "Grid {'max_depth': 3, 'min_samples_leaf': 2, 'min_samples_split': 5} : 0.7850 0.0036 0.7745 0.0335 0.7265 0.0041 0.7149 0.0363\n",
      "Grid {'max_depth': 3, 'min_samples_leaf': 2, 'min_samples_split': 6} : 0.7850 0.0036 0.7745 0.0335 0.7265 0.0041 0.7149 0.0363\n",
      "Grid {'max_depth': 3, 'min_samples_leaf': 2, 'min_samples_split': 7} : 0.7850 0.0036 0.7745 0.0335 0.7265 0.0041 0.7149 0.0363\n",
      "Grid {'max_depth': 3, 'min_samples_leaf': 3, 'min_samples_split': 3} : 0.7850 0.0036 0.7745 0.0335 0.7265 0.0041 0.7149 0.0363\n",
      "Grid {'max_depth': 3, 'min_samples_leaf': 3, 'min_samples_split': 4} : 0.7850 0.0036 0.7745 0.0335 0.7265 0.0041 0.7149 0.0363\n",
      "Grid {'max_depth': 3, 'min_samples_leaf': 3, 'min_samples_split': 5} : 0.7850 0.0036 0.7745 0.0335 0.7265 0.0041 0.7149 0.0363\n",
      "Grid {'max_depth': 3, 'min_samples_leaf': 3, 'min_samples_split': 6} : 0.7850 0.0036 0.7745 0.0335 0.7265 0.0041 0.7149 0.0363\n",
      "Grid {'max_depth': 3, 'min_samples_leaf': 3, 'min_samples_split': 7} : 0.7850 0.0036 0.7745 0.0335 0.7265 0.0041 0.7149 0.0363\n",
      "Grid {'max_depth': 3, 'min_samples_leaf': 4, 'min_samples_split': 3} : 0.7850 0.0036 0.7745 0.0335 0.7265 0.0041 0.7149 0.0363\n",
      "Grid {'max_depth': 3, 'min_samples_leaf': 4, 'min_samples_split': 4} : 0.7850 0.0036 0.7745 0.0335 0.7265 0.0041 0.7149 0.0363\n",
      "Grid {'max_depth': 3, 'min_samples_leaf': 4, 'min_samples_split': 5} : 0.7850 0.0036 0.7745 0.0335 0.7265 0.0041 0.7149 0.0363\n",
      "Grid {'max_depth': 3, 'min_samples_leaf': 4, 'min_samples_split': 6} : 0.7850 0.0036 0.7745 0.0335 0.7265 0.0041 0.7149 0.0363\n",
      "Grid {'max_depth': 3, 'min_samples_leaf': 4, 'min_samples_split': 7} : 0.7850 0.0036 0.7745 0.0335 0.7265 0.0041 0.7149 0.0363\n",
      "Grid {'max_depth': 3, 'min_samples_leaf': 5, 'min_samples_split': 3} : 0.7850 0.0036 0.7745 0.0335 0.7265 0.0041 0.7149 0.0363\n",
      "Grid {'max_depth': 3, 'min_samples_leaf': 5, 'min_samples_split': 4} : 0.7850 0.0036 0.7745 0.0335 0.7265 0.0041 0.7149 0.0363\n",
      "Grid {'max_depth': 3, 'min_samples_leaf': 5, 'min_samples_split': 5} : 0.7850 0.0036 0.7745 0.0335 0.7265 0.0041 0.7149 0.0363\n",
      "Grid {'max_depth': 3, 'min_samples_leaf': 5, 'min_samples_split': 6} : 0.7850 0.0036 0.7745 0.0335 0.7265 0.0041 0.7149 0.0363\n",
      "Grid {'max_depth': 3, 'min_samples_leaf': 5, 'min_samples_split': 7} : 0.7850 0.0036 0.7745 0.0335 0.7265 0.0041 0.7149 0.0363\n",
      "Grid {'max_depth': 3, 'min_samples_leaf': 6, 'min_samples_split': 3} : 0.7850 0.0036 0.7745 0.0335 0.7265 0.0041 0.7149 0.0363\n",
      "Grid {'max_depth': 3, 'min_samples_leaf': 6, 'min_samples_split': 4} : 0.7850 0.0036 0.7745 0.0335 0.7265 0.0041 0.7149 0.0363\n",
      "Grid {'max_depth': 3, 'min_samples_leaf': 6, 'min_samples_split': 5} : 0.7850 0.0036 0.7745 0.0335 0.7265 0.0041 0.7149 0.0363\n",
      "Grid {'max_depth': 3, 'min_samples_leaf': 6, 'min_samples_split': 6} : 0.7850 0.0036 0.7745 0.0335 0.7265 0.0041 0.7149 0.0363\n",
      "Grid {'max_depth': 3, 'min_samples_leaf': 6, 'min_samples_split': 7} : 0.7850 0.0036 0.7745 0.0335 0.7265 0.0041 0.7149 0.0363\n",
      "Grid {'max_depth': 4, 'min_samples_leaf': 2, 'min_samples_split': 3} : 0.8250 0.0030 0.8012 0.0317 0.7633 0.0063 0.7337 0.0363\n",
      "Grid {'max_depth': 4, 'min_samples_leaf': 2, 'min_samples_split': 4} : 0.8250 0.0030 0.8012 0.0317 0.7633 0.0063 0.7337 0.0363\n",
      "Grid {'max_depth': 4, 'min_samples_leaf': 2, 'min_samples_split': 5} : 0.8250 0.0030 0.8012 0.0317 0.7633 0.0063 0.7337 0.0363\n",
      "Grid {'max_depth': 4, 'min_samples_leaf': 2, 'min_samples_split': 6} : 0.8250 0.0030 0.8012 0.0317 0.7633 0.0063 0.7337 0.0363\n",
      "Grid {'max_depth': 4, 'min_samples_leaf': 2, 'min_samples_split': 7} : 0.8250 0.0030 0.8012 0.0317 0.7633 0.0063 0.7337 0.0363\n",
      "Grid {'max_depth': 4, 'min_samples_leaf': 3, 'min_samples_split': 3} : 0.8250 0.0030 0.8010 0.0320 0.7633 0.0063 0.7337 0.0363\n",
      "Grid {'max_depth': 4, 'min_samples_leaf': 3, 'min_samples_split': 4} : 0.8250 0.0030 0.8010 0.0320 0.7633 0.0063 0.7337 0.0363\n",
      "Grid {'max_depth': 4, 'min_samples_leaf': 3, 'min_samples_split': 5} : 0.8250 0.0030 0.8010 0.0320 0.7633 0.0063 0.7337 0.0363\n",
      "Grid {'max_depth': 4, 'min_samples_leaf': 3, 'min_samples_split': 6} : 0.8250 0.0030 0.8010 0.0320 0.7633 0.0063 0.7337 0.0363\n",
      "Grid {'max_depth': 4, 'min_samples_leaf': 3, 'min_samples_split': 7} : 0.8250 0.0030 0.8010 0.0320 0.7633 0.0063 0.7337 0.0363\n",
      "Grid {'max_depth': 4, 'min_samples_leaf': 4, 'min_samples_split': 3} : 0.8245 0.0031 0.7997 0.0320 0.7629 0.0063 0.7337 0.0363\n",
      "Grid {'max_depth': 4, 'min_samples_leaf': 4, 'min_samples_split': 4} : 0.8245 0.0031 0.7997 0.0320 0.7629 0.0063 0.7337 0.0363\n",
      "Grid {'max_depth': 4, 'min_samples_leaf': 4, 'min_samples_split': 5} : 0.8245 0.0031 0.7997 0.0320 0.7629 0.0063 0.7337 0.0363\n",
      "Grid {'max_depth': 4, 'min_samples_leaf': 4, 'min_samples_split': 6} : 0.8245 0.0031 0.7997 0.0320 0.7629 0.0063 0.7337 0.0363\n",
      "Grid {'max_depth': 4, 'min_samples_leaf': 4, 'min_samples_split': 7} : 0.8245 0.0031 0.7997 0.0320 0.7629 0.0063 0.7337 0.0363\n",
      "Grid {'max_depth': 4, 'min_samples_leaf': 5, 'min_samples_split': 3} : 0.8245 0.0031 0.7997 0.0320 0.7629 0.0063 0.7337 0.0363\n",
      "Grid {'max_depth': 4, 'min_samples_leaf': 5, 'min_samples_split': 4} : 0.8245 0.0031 0.7997 0.0320 0.7629 0.0063 0.7337 0.0363\n",
      "Grid {'max_depth': 4, 'min_samples_leaf': 5, 'min_samples_split': 5} : 0.8245 0.0031 0.7997 0.0320 0.7629 0.0063 0.7337 0.0363\n",
      "Grid {'max_depth': 4, 'min_samples_leaf': 5, 'min_samples_split': 6} : 0.8245 0.0031 0.7997 0.0320 0.7629 0.0063 0.7337 0.0363\n",
      "Grid {'max_depth': 4, 'min_samples_leaf': 5, 'min_samples_split': 7} : 0.8245 0.0031 0.7997 0.0320 0.7629 0.0063 0.7337 0.0363\n",
      "Grid {'max_depth': 4, 'min_samples_leaf': 6, 'min_samples_split': 3} : 0.8245 0.0031 0.8001 0.0314 0.7628 0.0063 0.7341 0.0357\n",
      "Grid {'max_depth': 4, 'min_samples_leaf': 6, 'min_samples_split': 4} : 0.8245 0.0031 0.8001 0.0314 0.7628 0.0063 0.7341 0.0357\n",
      "Grid {'max_depth': 4, 'min_samples_leaf': 6, 'min_samples_split': 5} : 0.8245 0.0031 0.8001 0.0314 0.7628 0.0063 0.7341 0.0357\n",
      "Grid {'max_depth': 4, 'min_samples_leaf': 6, 'min_samples_split': 6} : 0.8245 0.0031 0.8001 0.0314 0.7628 0.0063 0.7341 0.0357\n",
      "Grid {'max_depth': 4, 'min_samples_leaf': 6, 'min_samples_split': 7} : 0.8245 0.0031 0.8001 0.0314 0.7628 0.0063 0.7341 0.0357\n",
      "Grid {'max_depth': 5, 'min_samples_leaf': 2, 'min_samples_split': 3} : 0.8558 0.0051 0.8011 0.0368 0.7852 0.0043 0.7447 0.0329\n",
      "Grid {'max_depth': 5, 'min_samples_leaf': 2, 'min_samples_split': 4} : 0.8558 0.0051 0.8011 0.0368 0.7852 0.0043 0.7447 0.0329\n",
      "Grid {'max_depth': 5, 'min_samples_leaf': 2, 'min_samples_split': 5} : 0.8558 0.0051 0.8011 0.0368 0.7852 0.0043 0.7447 0.0329\n",
      "Grid {'max_depth': 5, 'min_samples_leaf': 2, 'min_samples_split': 6} : 0.8558 0.0050 0.8020 0.0357 0.7852 0.0043 0.7447 0.0329\n",
      "Grid {'max_depth': 5, 'min_samples_leaf': 2, 'min_samples_split': 7} : 0.8557 0.0050 0.8020 0.0357 0.7851 0.0043 0.7447 0.0329\n",
      "Grid {'max_depth': 5, 'min_samples_leaf': 3, 'min_samples_split': 3} : 0.8556 0.0053 0.8016 0.0364 0.7849 0.0042 0.7456 0.0345\n",
      "Grid {'max_depth': 5, 'min_samples_leaf': 3, 'min_samples_split': 4} : 0.8556 0.0053 0.8016 0.0364 0.7849 0.0042 0.7456 0.0345\n",
      "Grid {'max_depth': 5, 'min_samples_leaf': 3, 'min_samples_split': 5} : 0.8556 0.0053 0.8016 0.0364 0.7849 0.0042 0.7456 0.0345\n",
      "Grid {'max_depth': 5, 'min_samples_leaf': 3, 'min_samples_split': 6} : 0.8556 0.0053 0.8016 0.0364 0.7849 0.0042 0.7456 0.0345\n",
      "Grid {'max_depth': 5, 'min_samples_leaf': 3, 'min_samples_split': 7} : 0.8556 0.0053 0.8016 0.0364 0.7849 0.0042 0.7456 0.0345\n",
      "Grid {'max_depth': 5, 'min_samples_leaf': 4, 'min_samples_split': 3} : 0.8556 0.0053 0.8026 0.0360 0.7840 0.0043 0.7466 0.0344\n",
      "Grid {'max_depth': 5, 'min_samples_leaf': 4, 'min_samples_split': 4} : 0.8556 0.0053 0.8026 0.0360 0.7840 0.0043 0.7466 0.0344\n",
      "Grid {'max_depth': 5, 'min_samples_leaf': 4, 'min_samples_split': 5} : 0.8556 0.0053 0.8026 0.0360 0.7840 0.0043 0.7466 0.0344\n",
      "Grid {'max_depth': 5, 'min_samples_leaf': 4, 'min_samples_split': 6} : 0.8556 0.0053 0.8026 0.0360 0.7840 0.0043 0.7466 0.0344\n",
      "Grid {'max_depth': 5, 'min_samples_leaf': 4, 'min_samples_split': 7} : 0.8556 0.0053 0.8026 0.0360 0.7840 0.0043 0.7466 0.0344\n",
      "Grid {'max_depth': 5, 'min_samples_leaf': 5, 'min_samples_split': 3} : 0.8553 0.0051 0.8038 0.0365 0.7829 0.0044 0.7470 0.0358\n",
      "Grid {'max_depth': 5, 'min_samples_leaf': 5, 'min_samples_split': 4} : 0.8553 0.0051 0.8038 0.0365 0.7829 0.0044 0.7470 0.0358\n",
      "Grid {'max_depth': 5, 'min_samples_leaf': 5, 'min_samples_split': 5} : 0.8553 0.0051 0.8038 0.0365 0.7829 0.0044 0.7470 0.0358\n",
      "Grid {'max_depth': 5, 'min_samples_leaf': 5, 'min_samples_split': 6} : 0.8553 0.0051 0.8038 0.0365 0.7829 0.0044 0.7470 0.0358\n",
      "Grid {'max_depth': 5, 'min_samples_leaf': 5, 'min_samples_split': 7} : 0.8553 0.0051 0.8038 0.0365 0.7829 0.0044 0.7470 0.0358\n",
      "Grid {'max_depth': 5, 'min_samples_leaf': 6, 'min_samples_split': 3} : 0.8550 0.0051 0.8048 0.0349 0.7826 0.0044 0.7475 0.0332\n",
      "Grid {'max_depth': 5, 'min_samples_leaf': 6, 'min_samples_split': 4} : 0.8550 0.0051 0.8048 0.0349 0.7826 0.0044 0.7475 0.0332\n",
      "Grid {'max_depth': 5, 'min_samples_leaf': 6, 'min_samples_split': 5} : 0.8550 0.0051 0.8048 0.0349 0.7826 0.0044 0.7475 0.0332\n",
      "Grid {'max_depth': 5, 'min_samples_leaf': 6, 'min_samples_split': 6} : 0.8550 0.0051 0.8048 0.0349 0.7826 0.0044 0.7475 0.0332\n",
      "Grid {'max_depth': 5, 'min_samples_leaf': 6, 'min_samples_split': 7} : 0.8550 0.0051 0.8048 0.0349 0.7826 0.0044 0.7475 0.0332\n",
      "Grid {'max_depth': 6, 'min_samples_leaf': 2, 'min_samples_split': 3} : 0.8888 0.0051 0.8113 0.0280 0.8157 0.0038 0.7563 0.0299\n",
      "Grid {'max_depth': 6, 'min_samples_leaf': 2, 'min_samples_split': 4} : 0.8888 0.0051 0.8113 0.0280 0.8157 0.0038 0.7563 0.0299\n",
      "Grid {'max_depth': 6, 'min_samples_leaf': 2, 'min_samples_split': 5} : 0.8886 0.0052 0.8122 0.0280 0.8155 0.0040 0.7563 0.0296\n",
      "Grid {'max_depth': 6, 'min_samples_leaf': 2, 'min_samples_split': 6} : 0.8883 0.0053 0.8130 0.0272 0.8153 0.0041 0.7558 0.0296\n",
      "Grid {'max_depth': 6, 'min_samples_leaf': 2, 'min_samples_split': 7} : 0.8879 0.0052 0.8125 0.0270 0.8148 0.0042 0.7563 0.0296\n",
      "Grid {'max_depth': 6, 'min_samples_leaf': 3, 'min_samples_split': 3} : 0.8877 0.0053 0.8163 0.0260 0.8144 0.0041 0.7545 0.0290\n",
      "Grid {'max_depth': 6, 'min_samples_leaf': 3, 'min_samples_split': 4} : 0.8877 0.0053 0.8163 0.0260 0.8144 0.0041 0.7545 0.0290\n",
      "Grid {'max_depth': 6, 'min_samples_leaf': 3, 'min_samples_split': 5} : 0.8877 0.0053 0.8163 0.0260 0.8144 0.0041 0.7545 0.0290\n",
      "Grid {'max_depth': 6, 'min_samples_leaf': 3, 'min_samples_split': 6} : 0.8877 0.0053 0.8163 0.0260 0.8144 0.0041 0.7545 0.0290\n",
      "Grid {'max_depth': 6, 'min_samples_leaf': 3, 'min_samples_split': 7} : 0.8874 0.0052 0.8156 0.0261 0.8141 0.0041 0.7545 0.0290\n",
      "Grid {'max_depth': 6, 'min_samples_leaf': 4, 'min_samples_split': 3} : 0.8866 0.0052 0.8131 0.0290 0.8123 0.0043 0.7540 0.0302\n",
      "Grid {'max_depth': 6, 'min_samples_leaf': 4, 'min_samples_split': 4} : 0.8866 0.0052 0.8131 0.0290 0.8123 0.0043 0.7540 0.0302\n",
      "Grid {'max_depth': 6, 'min_samples_leaf': 4, 'min_samples_split': 5} : 0.8866 0.0052 0.8131 0.0290 0.8123 0.0043 0.7540 0.0302\n",
      "Grid {'max_depth': 6, 'min_samples_leaf': 4, 'min_samples_split': 6} : 0.8866 0.0052 0.8131 0.0290 0.8123 0.0043 0.7540 0.0302\n",
      "Grid {'max_depth': 6, 'min_samples_leaf': 4, 'min_samples_split': 7} : 0.8866 0.0052 0.8131 0.0290 0.8123 0.0043 0.7540 0.0302\n",
      "Grid {'max_depth': 6, 'min_samples_leaf': 5, 'min_samples_split': 3} : 0.8853 0.0040 0.8180 0.0336 0.8105 0.0041 0.7591 0.0394\n",
      "Grid {'max_depth': 6, 'min_samples_leaf': 5, 'min_samples_split': 4} : 0.8853 0.0040 0.8180 0.0336 0.8105 0.0041 0.7591 0.0394\n",
      "Grid {'max_depth': 6, 'min_samples_leaf': 5, 'min_samples_split': 5} : 0.8853 0.0040 0.8180 0.0336 0.8105 0.0041 0.7591 0.0394\n",
      "Grid {'max_depth': 6, 'min_samples_leaf': 5, 'min_samples_split': 6} : 0.8853 0.0040 0.8180 0.0336 0.8105 0.0041 0.7591 0.0394\n",
      "Grid {'max_depth': 6, 'min_samples_leaf': 5, 'min_samples_split': 7} : 0.8853 0.0040 0.8180 0.0336 0.8105 0.0041 0.7591 0.0394\n",
      "Grid {'max_depth': 6, 'min_samples_leaf': 6, 'min_samples_split': 3} : 0.8838 0.0042 0.8188 0.0348 0.8096 0.0041 0.7573 0.0403\n",
      "Grid {'max_depth': 6, 'min_samples_leaf': 6, 'min_samples_split': 4} : 0.8838 0.0042 0.8188 0.0348 0.8096 0.0041 0.7573 0.0403\n",
      "Grid {'max_depth': 6, 'min_samples_leaf': 6, 'min_samples_split': 5} : 0.8838 0.0042 0.8188 0.0348 0.8096 0.0041 0.7573 0.0403\n",
      "Grid {'max_depth': 6, 'min_samples_leaf': 6, 'min_samples_split': 6} : 0.8838 0.0042 0.8188 0.0348 0.8096 0.0041 0.7573 0.0403\n",
      "Grid {'max_depth': 6, 'min_samples_leaf': 6, 'min_samples_split': 7} : 0.8838 0.0042 0.8188 0.0348 0.8096 0.0041 0.7573 0.0403\n",
      "Grid {'max_depth': 7, 'min_samples_leaf': 2, 'min_samples_split': 3} : 0.9197 0.0037 0.8112 0.0316 0.8461 0.0053 0.7581 0.0330\n",
      "Grid {'max_depth': 7, 'min_samples_leaf': 2, 'min_samples_split': 4} : 0.9197 0.0037 0.8112 0.0316 0.8461 0.0053 0.7581 0.0330\n",
      "Grid {'max_depth': 7, 'min_samples_leaf': 2, 'min_samples_split': 5} : 0.9190 0.0037 0.8109 0.0296 0.8453 0.0051 0.7581 0.0332\n",
      "Grid {'max_depth': 7, 'min_samples_leaf': 2, 'min_samples_split': 6} : 0.9181 0.0042 0.8150 0.0297 0.8443 0.0057 0.7595 0.0313\n",
      "Grid {'max_depth': 7, 'min_samples_leaf': 2, 'min_samples_split': 7} : 0.9171 0.0039 0.8137 0.0308 0.8430 0.0051 0.7586 0.0308\n",
      "Grid {'max_depth': 7, 'min_samples_leaf': 3, 'min_samples_split': 3} : 0.9165 0.0042 0.8165 0.0305 0.8418 0.0058 0.7591 0.0337\n",
      "Grid {'max_depth': 7, 'min_samples_leaf': 3, 'min_samples_split': 4} : 0.9165 0.0042 0.8165 0.0305 0.8418 0.0058 0.7591 0.0337\n",
      "Grid {'max_depth': 7, 'min_samples_leaf': 3, 'min_samples_split': 5} : 0.9165 0.0042 0.8165 0.0305 0.8418 0.0058 0.7591 0.0337\n",
      "Grid {'max_depth': 7, 'min_samples_leaf': 3, 'min_samples_split': 6} : 0.9165 0.0042 0.8165 0.0305 0.8418 0.0058 0.7591 0.0337\n",
      "Grid {'max_depth': 7, 'min_samples_leaf': 3, 'min_samples_split': 7} : 0.9157 0.0037 0.8142 0.0343 0.8406 0.0050 0.7563 0.0352\n",
      "Grid {'max_depth': 7, 'min_samples_leaf': 4, 'min_samples_split': 3} : 0.9139 0.0043 0.8164 0.0309 0.8377 0.0054 0.7535 0.0330\n",
      "Grid {'max_depth': 7, 'min_samples_leaf': 4, 'min_samples_split': 4} : 0.9139 0.0043 0.8164 0.0309 0.8377 0.0054 0.7535 0.0330\n",
      "Grid {'max_depth': 7, 'min_samples_leaf': 4, 'min_samples_split': 5} : 0.9139 0.0043 0.8164 0.0309 0.8377 0.0054 0.7535 0.0330\n",
      "Grid {'max_depth': 7, 'min_samples_leaf': 4, 'min_samples_split': 6} : 0.9139 0.0043 0.8164 0.0309 0.8377 0.0054 0.7535 0.0330\n",
      "Grid {'max_depth': 7, 'min_samples_leaf': 4, 'min_samples_split': 7} : 0.9139 0.0043 0.8164 0.0309 0.8377 0.0054 0.7535 0.0330\n",
      "Grid {'max_depth': 7, 'min_samples_leaf': 5, 'min_samples_split': 3} : 0.9122 0.0031 0.8201 0.0324 0.8357 0.0036 0.7544 0.0308\n",
      "Grid {'max_depth': 7, 'min_samples_leaf': 5, 'min_samples_split': 4} : 0.9122 0.0031 0.8201 0.0324 0.8357 0.0036 0.7544 0.0308\n",
      "Grid {'max_depth': 7, 'min_samples_leaf': 5, 'min_samples_split': 5} : 0.9122 0.0031 0.8201 0.0324 0.8357 0.0036 0.7544 0.0308\n",
      "Grid {'max_depth': 7, 'min_samples_leaf': 5, 'min_samples_split': 6} : 0.9122 0.0031 0.8201 0.0324 0.8357 0.0036 0.7544 0.0308\n",
      "Grid {'max_depth': 7, 'min_samples_leaf': 5, 'min_samples_split': 7} : 0.9122 0.0031 0.8201 0.0324 0.8357 0.0036 0.7544 0.0308\n",
      "Grid {'max_depth': 7, 'min_samples_leaf': 6, 'min_samples_split': 3} : 0.9101 0.0032 0.8204 0.0347 0.8330 0.0037 0.7539 0.0309\n",
      "Grid {'max_depth': 7, 'min_samples_leaf': 6, 'min_samples_split': 4} : 0.9101 0.0032 0.8204 0.0347 0.8330 0.0037 0.7539 0.0309\n",
      "Grid {'max_depth': 7, 'min_samples_leaf': 6, 'min_samples_split': 5} : 0.9101 0.0032 0.8204 0.0347 0.8330 0.0037 0.7539 0.0309\n",
      "Grid {'max_depth': 7, 'min_samples_leaf': 6, 'min_samples_split': 6} : 0.9101 0.0032 0.8204 0.0347 0.8330 0.0037 0.7539 0.0309\n",
      "Grid {'max_depth': 7, 'min_samples_leaf': 6, 'min_samples_split': 7} : 0.9101 0.0032 0.8204 0.0347 0.8330 0.0037 0.7539 0.0309\n"
     ]
    }
   ],
   "source": [
    "means_1a = clf.cv_results_['mean_train_roc_auc']\n",
    "stds_1a  = clf.cv_results_['std_train_roc_auc']\n",
    "\n",
    "means_1b = clf.cv_results_['mean_test_roc_auc']\n",
    "stds_1b  = clf.cv_results_['std_test_roc_auc']\n",
    "\n",
    "means_2a = clf.cv_results_['mean_train_balanced_accuracy']\n",
    "stds_2a  = clf.cv_results_['std_train_balanced_accuracy']\n",
    "\n",
    "means_2b = clf.cv_results_['mean_test_balanced_accuracy']\n",
    "stds_2b  = clf.cv_results_['std_test_balanced_accuracy']\n",
    "\n",
    "iterobjs = zip( means_1a, stds_1a, means_1b, stds_1b,\n",
    "                means_2a, stds_2a, means_2b, stds_2b, clf.cv_results_['params'] )\n",
    "\n",
    "for m1a, s1a, m1b, s1b, m2a, s2a, m2b, s2b, params in iterobjs :\n",
    "\n",
    "    print( \"Grid %r : %0.4f %0.04f %0.4f %0.04f %0.4f %0.04f %0.4f %0.04f\"\n",
    "           % ( params, m1a, s1a, m1b, s1b, m2a, s2a, m2b, s2b))"
   ]
  },
  {
   "cell_type": "code",
   "execution_count": 37,
   "id": "6b7dbb51",
   "metadata": {},
   "outputs": [
    {
     "name": "stdout",
     "output_type": "stream",
     "text": [
      "Using Training Data\n",
      "Confusion Matrix\n",
      "[[947 139]\n",
      " [210 875]] \n",
      "\n",
      "Accuracy: 0.8392445877475817\n",
      "F1 Score: 0.8337303477846593\n",
      "ROC AUC 0.9065886736088127\n",
      "\n",
      "Using Test Data\n",
      "Confusion Matrix\n",
      "[[378  87]\n",
      " [142 324]] \n",
      "\n",
      "Accuracy: 0.7540279269602578\n",
      "F1 Score: 0.7388825541619156\n",
      "ROC AUC 0.799937699017029\n",
      "\n",
      "\n",
      "              precision    recall  f1-score   support\n",
      "\n",
      "           0       0.73      0.81      0.77       465\n",
      "           1       0.79      0.70      0.74       466\n",
      "\n",
      "    accuracy                           0.75       931\n",
      "   macro avg       0.76      0.75      0.75       931\n",
      "weighted avg       0.76      0.75      0.75       931\n",
      "\n"
     ]
    }
   ],
   "source": [
    "performance_analysis(clf)"
   ]
  },
  {
   "cell_type": "code",
   "execution_count": 38,
   "id": "130e22d7",
   "metadata": {},
   "outputs": [
    {
     "data": {
      "text/html": [
       "<style>\n",
       "table {float:left}\n",
       "</style>\n"
      ],
      "text/plain": [
       "<IPython.core.display.HTML object>"
      ]
     },
     "metadata": {},
     "output_type": "display_data"
    }
   ],
   "source": [
    "%%html\n",
    "<style>\n",
    "table {float:left}\n",
    "</style>"
   ]
  },
  {
   "cell_type": "markdown",
   "id": "d667db12",
   "metadata": {},
   "source": [
    "### 4.3 Training a Random Forest Classifier"
   ]
  },
  {
   "cell_type": "code",
   "execution_count": 39,
   "id": "61879a9a",
   "metadata": {},
   "outputs": [],
   "source": [
    "from sklearn.ensemble import RandomForestClassifier"
   ]
  },
  {
   "cell_type": "code",
   "execution_count": 40,
   "id": "05208fe3",
   "metadata": {},
   "outputs": [
    {
     "name": "stderr",
     "output_type": "stream",
     "text": [
      "100%|█████████████████████████████████████████| 196/196 [03:27<00:00,  1.06s/it]\n"
     ]
    },
    {
     "data": {
      "image/png": "[encoded data removed]",
      "text/plain": [
       "<Figure size 640x480 with 1 Axes>"
      ]
     },
     "metadata": {},
     "output_type": "display_data"
    },
    {
     "name": "stdout",
     "output_type": "stream",
     "text": [
      "Best number of trees: 115\n"
     ]
    }
   ],
   "source": [
    "f1_scores = []\n",
    "array = np.arange(20,1000,5)\n",
    "for number_trees in tqdm(array):\n",
    "    RFCls = RandomForestClassifier(n_estimators = number_trees, random_state = 0)\n",
    "    RFCls.fit(X_train,y_train)\n",
    "    f1_scores.append(f1_score(y_test, RFCls.predict(X_test)))\n",
    "    \n",
    "plt.plot(array, f1_scores)\n",
    "plt.xlabel('Number of Trees')\n",
    "plt.ylabel('F1 Score')\n",
    "plt.title('Number of Trees Selection')\n",
    "plt.show()\n",
    "\n",
    "best_alpha = array[max(range(len(f1_scores)), key=f1_scores.__getitem__)]\n",
    "\n",
    "print(f\"Best number of trees: {best_alpha}\")"
   ]
  },
  {
   "cell_type": "code",
   "execution_count": 41,
   "id": "12c5f98f",
   "metadata": {},
   "outputs": [
    {
     "name": "stdout",
     "output_type": "stream",
     "text": [
      "Using Training Data\n",
      "Confusion Matrix\n",
      "[[1074   12]\n",
      " [   7 1078]] \n",
      "\n",
      "Accuracy: 0.9912482726853984\n",
      "F1 Score: 0.991264367816092\n",
      "ROC AUC 0.9998166866104845\n",
      "\n",
      "Using Test Data\n",
      "Confusion Matrix\n",
      "[[390  75]\n",
      " [103 363]] \n",
      "\n",
      "Accuracy: 0.8088077336197637\n",
      "F1 Score: 0.8030973451327433\n",
      "ROC AUC 0.886462227144769\n",
      "\n",
      "\n",
      "              precision    recall  f1-score   support\n",
      "\n",
      "           0       0.79      0.84      0.81       465\n",
      "           1       0.83      0.78      0.80       466\n",
      "\n",
      "    accuracy                           0.81       931\n",
      "   macro avg       0.81      0.81      0.81       931\n",
      "weighted avg       0.81      0.81      0.81       931\n",
      "\n"
     ]
    }
   ],
   "source": [
    "rf_clf = RandomForestClassifier(n_estimators = best_alpha, random_state = 0)\n",
    "rf_clf.fit(X_train ,y_train)\n",
    "\n",
    "performance_analysis(rf_clf)"
   ]
  },
  {
   "cell_type": "markdown",
   "id": "dafb3ecb",
   "metadata": {},
   "source": [
    "### 4.4 Using an LSTM RNN classifier"
   ]
  },
  {
   "cell_type": "code",
   "execution_count": 42,
   "id": "6b04d74f",
   "metadata": {},
   "outputs": [],
   "source": [
    "df_lstm = df_activity.join(df_smiles.set_index('cid'), on='cid')"
   ]
  },
  {
   "cell_type": "code",
   "execution_count": 43,
   "id": "f6653394",
   "metadata": {},
   "outputs": [
    {
     "data": {
      "text/html": [
       "<div>\n",
       "<style scoped>\n",
       "    .dataframe tbody tr th:only-of-type {\n",
       "        vertical-align: middle;\n",
       "    }\n",
       "\n",
       "    .dataframe tbody tr th {\n",
       "        vertical-align: top;\n",
       "    }\n",
       "\n",
       "    .dataframe thead th {\n",
       "        text-align: right;\n",
       "    }\n",
       "</style>\n",
       "<table border=\"1\" class=\"dataframe\">\n",
       "  <thead>\n",
       "    <tr style=\"text-align: right;\">\n",
       "      <th></th>\n",
       "      <th>cid</th>\n",
       "      <th>activity</th>\n",
       "      <th>smiles</th>\n",
       "    </tr>\n",
       "  </thead>\n",
       "  <tbody>\n",
       "    <tr>\n",
       "      <th>5</th>\n",
       "      <td>6604612.0</td>\n",
       "      <td>1</td>\n",
       "      <td>CC[C@@H]1CN2CC[C@@H]1C[C@H]2[C@H](C3=C4C=C(C=C...</td>\n",
       "    </tr>\n",
       "    <tr>\n",
       "      <th>6</th>\n",
       "      <td>6604463.0</td>\n",
       "      <td>1</td>\n",
       "      <td>CN1C[C@@H](C[C@@]2([C@@H]1CC3=CN(C4=CC=CC2=C34...</td>\n",
       "    </tr>\n",
       "    <tr>\n",
       "      <th>7</th>\n",
       "      <td>441975.0</td>\n",
       "      <td>1</td>\n",
       "      <td>C[C@H]1[C@H]2CN3CCC4=C([C@@H]3C[C@@H]2C(=CO1)C...</td>\n",
       "    </tr>\n",
       "    <tr>\n",
       "      <th>8</th>\n",
       "      <td>6604953.0</td>\n",
       "      <td>1</td>\n",
       "      <td>CC(C)C1=NC(=C(C=C1)C(=O)C2=CC=CS2)SCCCCCCCCNC....</td>\n",
       "    </tr>\n",
       "    <tr>\n",
       "      <th>9</th>\n",
       "      <td>6604753.0</td>\n",
       "      <td>1</td>\n",
       "      <td>CC[C@@H](C(=O)OC1C[C@H]2CC[C@@H](C1)N2C)OC3=CC...</td>\n",
       "    </tr>\n",
       "  </tbody>\n",
       "</table>\n",
       "</div>"
      ],
      "text/plain": [
       "         cid  activity                                             smiles\n",
       "5  6604612.0         1  CC[C@@H]1CN2CC[C@@H]1C[C@H]2[C@H](C3=C4C=C(C=C...\n",
       "6  6604463.0         1  CN1C[C@@H](C[C@@]2([C@@H]1CC3=CN(C4=CC=CC2=C34...\n",
       "7   441975.0         1  C[C@H]1[C@H]2CN3CCC4=C([C@@H]3C[C@@H]2C(=CO1)C...\n",
       "8  6604953.0         1  CC(C)C1=NC(=C(C=C1)C(=O)C2=CC=CS2)SCCCCCCCCNC....\n",
       "9  6604753.0         1  CC[C@@H](C(=O)OC1C[C@H]2CC[C@@H](C1)N2C)OC3=CC..."
      ]
     },
     "execution_count": 43,
     "metadata": {},
     "output_type": "execute_result"
    }
   ],
   "source": [
    "df_lstm.head()"
   ]
  },
  {
   "cell_type": "code",
   "execution_count": 44,
   "id": "33fa46ed",
   "metadata": {},
   "outputs": [],
   "source": [
    "df_lstm.activity = df_lstm.activity.astype(float)"
   ]
  },
  {
   "cell_type": "code",
   "execution_count": 45,
   "id": "4cb80079",
   "metadata": {},
   "outputs": [
    {
     "data": {
      "text/html": [
       "<div>\n",
       "<style scoped>\n",
       "    .dataframe tbody tr th:only-of-type {\n",
       "        vertical-align: middle;\n",
       "    }\n",
       "\n",
       "    .dataframe tbody tr th {\n",
       "        vertical-align: top;\n",
       "    }\n",
       "\n",
       "    .dataframe thead th {\n",
       "        text-align: right;\n",
       "    }\n",
       "</style>\n",
       "<table border=\"1\" class=\"dataframe\">\n",
       "  <thead>\n",
       "    <tr style=\"text-align: right;\">\n",
       "      <th></th>\n",
       "      <th>cid</th>\n",
       "      <th>activity</th>\n",
       "      <th>smiles</th>\n",
       "      <th>fingerprint</th>\n",
       "    </tr>\n",
       "  </thead>\n",
       "  <tbody>\n",
       "    <tr>\n",
       "      <th>5</th>\n",
       "      <td>6604612.0</td>\n",
       "      <td>1.0</td>\n",
       "      <td>CC[C@@H]1CN2CC[C@@H]1C[C@H]2[C@H](C3=C4C=C(C=C...</td>\n",
       "      <td>[0.0, 0.0, 0.0, 0.0, 0.0, 0.0, 0.0, 0.0, 0.0, ...</td>\n",
       "    </tr>\n",
       "    <tr>\n",
       "      <th>6</th>\n",
       "      <td>6604463.0</td>\n",
       "      <td>1.0</td>\n",
       "      <td>CN1C[C@@H](C[C@@]2([C@@H]1CC3=CN(C4=CC=CC2=C34...</td>\n",
       "      <td>[0.0, 0.0, 0.0, 0.0, 0.0, 0.0, 0.0, 0.0, 0.0, ...</td>\n",
       "    </tr>\n",
       "    <tr>\n",
       "      <th>7</th>\n",
       "      <td>441975.0</td>\n",
       "      <td>1.0</td>\n",
       "      <td>C[C@H]1[C@H]2CN3CCC4=C([C@@H]3C[C@@H]2C(=CO1)C...</td>\n",
       "      <td>[0.0, 0.0, 0.0, 0.0, 0.0, 0.0, 0.0, 0.0, 0.0, ...</td>\n",
       "    </tr>\n",
       "    <tr>\n",
       "      <th>8</th>\n",
       "      <td>6604953.0</td>\n",
       "      <td>1.0</td>\n",
       "      <td>CC(C)C1=NC(=C(C=C1)C(=O)C2=CC=CS2)SCCCCCCCCNC....</td>\n",
       "      <td>[0.0, 0.0, 0.0, 0.0, 0.0, 0.0, 0.0, 0.0, 0.0, ...</td>\n",
       "    </tr>\n",
       "    <tr>\n",
       "      <th>9</th>\n",
       "      <td>6604753.0</td>\n",
       "      <td>1.0</td>\n",
       "      <td>CC[C@@H](C(=O)OC1C[C@H]2CC[C@@H](C1)N2C)OC3=CC...</td>\n",
       "      <td>[0.0, 0.0, 0.0, 0.0, 0.0, 0.0, 0.0, 0.0, 0.0, ...</td>\n",
       "    </tr>\n",
       "  </tbody>\n",
       "</table>\n",
       "</div>"
      ],
      "text/plain": [
       "         cid  activity                                             smiles  \\\n",
       "5  6604612.0       1.0  CC[C@@H]1CN2CC[C@@H]1C[C@H]2[C@H](C3=C4C=C(C=C...   \n",
       "6  6604463.0       1.0  CN1C[C@@H](C[C@@]2([C@@H]1CC3=CN(C4=CC=CC2=C34...   \n",
       "7   441975.0       1.0  C[C@H]1[C@H]2CN3CCC4=C([C@@H]3C[C@@H]2C(=CO1)C...   \n",
       "8  6604953.0       1.0  CC(C)C1=NC(=C(C=C1)C(=O)C2=CC=CS2)SCCCCCCCCNC....   \n",
       "9  6604753.0       1.0  CC[C@@H](C(=O)OC1C[C@H]2CC[C@@H](C1)N2C)OC3=CC...   \n",
       "\n",
       "                                         fingerprint  \n",
       "5  [0.0, 0.0, 0.0, 0.0, 0.0, 0.0, 0.0, 0.0, 0.0, ...  \n",
       "6  [0.0, 0.0, 0.0, 0.0, 0.0, 0.0, 0.0, 0.0, 0.0, ...  \n",
       "7  [0.0, 0.0, 0.0, 0.0, 0.0, 0.0, 0.0, 0.0, 0.0, ...  \n",
       "8  [0.0, 0.0, 0.0, 0.0, 0.0, 0.0, 0.0, 0.0, 0.0, ...  \n",
       "9  [0.0, 0.0, 0.0, 0.0, 0.0, 0.0, 0.0, 0.0, 0.0, ...  "
      ]
     },
     "execution_count": 45,
     "metadata": {},
     "output_type": "execute_result"
    }
   ],
   "source": [
    "smiles = df_lstm.smiles.to_list()\n",
    "fps = []\n",
    "\n",
    "for smile in smiles:\n",
    "    fp = list(MACCSkeys.GenMACCSKeys(Chem.MolFromSmiles(smile)).ToBitString())\n",
    "    fp = [float(x) for x in fp]\n",
    "    fps.append(fp)\n",
    "    \n",
    "df_lstm['fingerprint'] = fps\n",
    "df_lstm.head()"
   ]
  },
  {
   "cell_type": "code",
   "execution_count": 46,
   "id": "41f84ee1",
   "metadata": {},
   "outputs": [],
   "source": [
    "from tensorflow.keras import Sequential\n",
    "from tensorflow.keras.layers import Embedding, Bidirectional, LSTM, Dense\n",
    "from tensorflow.keras.optimizers import Adam\n",
    "\n",
    "def lstm_model(num_alphabets=2, name_length=167, embedding_dim=256):\n",
    "    model = Sequential([\n",
    "        Embedding(num_alphabets, embedding_dim, input_length=name_length),\n",
    "        Bidirectional(LSTM(units=128, recurrent_dropout=0.2, dropout=0.2)),\n",
    "        Dense(1, activation=\"sigmoid\")\n",
    "    ])\n",
    "\n",
    "    model.compile(loss='binary_crossentropy',\n",
    "                  optimizer=Adam(learning_rate=0.001),\n",
    "                  metrics=['accuracy'])\n",
    "\n",
    "    return model"
   ]
  },
  {
   "cell_type": "code",
   "execution_count": 47,
   "id": "f35ae011",
   "metadata": {},
   "outputs": [
    {
     "name": "stdout",
     "output_type": "stream",
     "text": [
      "(2171, 167) (931, 167) (2171,) (931,)\n",
      "1085.0 466.0\n"
     ]
    },
    {
     "name": "stderr",
     "output_type": "stream",
     "text": [
      "2022-10-08 13:26:23.232152: I tensorflow/core/platform/cpu_feature_guard.cc:193] This TensorFlow binary is optimized with oneAPI Deep Neural Network Library (oneDNN) to use the following CPU instructions in performance-critical operations:  SSE4.1 SSE4.2\n",
      "To enable them in other operations, rebuild TensorFlow with the appropriate compiler flags.\n"
     ]
    }
   ],
   "source": [
    "import numpy as np\n",
    "from matplotlib import pyplot as plt\n",
    "from sklearn.model_selection import train_test_split\n",
    "from tensorflow.keras.callbacks import EarlyStopping\n",
    "\n",
    "# Step 1: Instantiate the model\n",
    "model = lstm_model(num_alphabets=27, name_length=167, embedding_dim=256)\n",
    "\n",
    "# Step 2: Split Training and Test Data\n",
    "X = np.asarray(df_lstm['fingerprint'].values.tolist())\n",
    "y = np.asarray(df_lstm['activity'].values.tolist())\n",
    "\n",
    "# X_train, X_test, y_train, y_test = train_test_split(X,\n",
    "#                                                    y,\n",
    "#                                                    test_size=0.2,\n",
    "#                                                    random_state=0)\n",
    "\n",
    "\n",
    "X_train, X_test, y_train, y_test = \\\n",
    "    train_test_split(X, y, shuffle=True, random_state=3100, stratify=y, test_size=0.3)\n",
    "\n",
    "print(X_train.shape, X_test.shape, y_train.shape, y_test.shape)\n",
    "print(y_train.sum(), y_test.sum())"
   ]
  },
  {
   "cell_type": "code",
   "execution_count": 48,
   "id": "f77a5a5a",
   "metadata": {},
   "outputs": [
    {
     "name": "stdout",
     "output_type": "stream",
     "text": [
      "Epoch 1/40\n",
      "34/34 [==============================] - 15s 389ms/step - loss: 0.6943 - accuracy: 0.4892 - val_loss: 0.6934 - val_accuracy: 0.4995\n",
      "Epoch 2/40\n",
      "34/34 [==============================] - 13s 392ms/step - loss: 0.6922 - accuracy: 0.5210 - val_loss: 0.6862 - val_accuracy: 0.5725\n",
      "Epoch 3/40\n",
      "34/34 [==============================] - 13s 379ms/step - loss: 0.6884 - accuracy: 0.5569 - val_loss: 0.6936 - val_accuracy: 0.5274\n",
      "Epoch 4/40\n",
      "34/34 [==============================] - 13s 392ms/step - loss: 0.6875 - accuracy: 0.5426 - val_loss: 0.6984 - val_accuracy: 0.5317\n",
      "Epoch 5/40\n",
      "34/34 [==============================] - 13s 388ms/step - loss: 0.6884 - accuracy: 0.5408 - val_loss: 0.6856 - val_accuracy: 0.5274\n",
      "Epoch 6/40\n",
      "34/34 [==============================] - 13s 398ms/step - loss: 0.6840 - accuracy: 0.5509 - val_loss: 0.6896 - val_accuracy: 0.5371\n",
      "Epoch 7/40\n",
      "34/34 [==============================] - 14s 402ms/step - loss: 0.6795 - accuracy: 0.5666 - val_loss: 0.6660 - val_accuracy: 0.5918\n",
      "Epoch 8/40\n",
      "34/34 [==============================] - 14s 404ms/step - loss: 0.6745 - accuracy: 0.5712 - val_loss: 0.6745 - val_accuracy: 0.5951\n",
      "Epoch 9/40\n",
      "34/34 [==============================] - 14s 406ms/step - loss: 0.6726 - accuracy: 0.5841 - val_loss: 0.6627 - val_accuracy: 0.6015\n",
      "Epoch 10/40\n",
      "34/34 [==============================] - 14s 426ms/step - loss: 0.6622 - accuracy: 0.6039 - val_loss: 0.6538 - val_accuracy: 0.6251\n",
      "Epoch 11/40\n",
      "34/34 [==============================] - 14s 424ms/step - loss: 0.6488 - accuracy: 0.6315 - val_loss: 0.6511 - val_accuracy: 0.6230\n",
      "Epoch 12/40\n",
      "34/34 [==============================] - 16s 471ms/step - loss: 0.6393 - accuracy: 0.6283 - val_loss: 0.6367 - val_accuracy: 0.6369\n",
      "Epoch 13/40\n",
      "34/34 [==============================] - 16s 462ms/step - loss: 0.6346 - accuracy: 0.6398 - val_loss: 0.6329 - val_accuracy: 0.6488\n",
      "Epoch 14/40\n",
      "34/34 [==============================] - 16s 472ms/step - loss: 0.6250 - accuracy: 0.6449 - val_loss: 0.6228 - val_accuracy: 0.6455\n",
      "Epoch 15/40\n",
      "34/34 [==============================] - 16s 487ms/step - loss: 0.6245 - accuracy: 0.6509 - val_loss: 0.6306 - val_accuracy: 0.6359\n",
      "Epoch 16/40\n",
      "34/34 [==============================] - 16s 473ms/step - loss: 0.6230 - accuracy: 0.6555 - val_loss: 0.6152 - val_accuracy: 0.6531\n",
      "Epoch 17/40\n",
      "34/34 [==============================] - 16s 470ms/step - loss: 0.6197 - accuracy: 0.6550 - val_loss: 0.6225 - val_accuracy: 0.6627\n",
      "Epoch 18/40\n",
      "34/34 [==============================] - 15s 457ms/step - loss: 0.6109 - accuracy: 0.6674 - val_loss: 0.6084 - val_accuracy: 0.6627\n",
      "Epoch 19/40\n",
      "34/34 [==============================] - 14s 427ms/step - loss: 0.6025 - accuracy: 0.6665 - val_loss: 0.6206 - val_accuracy: 0.6574\n",
      "Epoch 20/40\n",
      "34/34 [==============================] - 15s 431ms/step - loss: 0.5991 - accuracy: 0.6739 - val_loss: 0.6078 - val_accuracy: 0.6627\n",
      "Epoch 21/40\n",
      "34/34 [==============================] - 15s 440ms/step - loss: 0.5951 - accuracy: 0.6730 - val_loss: 0.6129 - val_accuracy: 0.6595\n",
      "Epoch 22/40\n",
      "34/34 [==============================] - 15s 449ms/step - loss: 0.5892 - accuracy: 0.6702 - val_loss: 0.6259 - val_accuracy: 0.6896\n",
      "Epoch 23/40\n",
      "34/34 [==============================] - 15s 433ms/step - loss: 0.5871 - accuracy: 0.6840 - val_loss: 0.6052 - val_accuracy: 0.6745\n",
      "Epoch 24/40\n",
      "34/34 [==============================] - 15s 428ms/step - loss: 0.5787 - accuracy: 0.6849 - val_loss: 0.6103 - val_accuracy: 0.6735\n",
      "Epoch 25/40\n",
      "34/34 [==============================] - 14s 418ms/step - loss: 0.5878 - accuracy: 0.6882 - val_loss: 0.6020 - val_accuracy: 0.6745\n",
      "Epoch 26/40\n",
      "34/34 [==============================] - 16s 465ms/step - loss: 0.5744 - accuracy: 0.6918 - val_loss: 0.6079 - val_accuracy: 0.6896\n",
      "Epoch 27/40\n",
      "34/34 [==============================] - 15s 439ms/step - loss: 0.5722 - accuracy: 0.6868 - val_loss: 0.5928 - val_accuracy: 0.6982\n",
      "Epoch 28/40\n",
      "34/34 [==============================] - 14s 427ms/step - loss: 0.5629 - accuracy: 0.6974 - val_loss: 0.5917 - val_accuracy: 0.7057\n",
      "Epoch 29/40\n",
      "34/34 [==============================] - 14s 425ms/step - loss: 0.5520 - accuracy: 0.7222 - val_loss: 0.5962 - val_accuracy: 0.7014\n",
      "Epoch 30/40\n",
      "34/34 [==============================] - 15s 429ms/step - loss: 0.5602 - accuracy: 0.7153 - val_loss: 0.5762 - val_accuracy: 0.7068\n",
      "Epoch 31/40\n",
      "34/34 [==============================] - 15s 446ms/step - loss: 0.5441 - accuracy: 0.7218 - val_loss: 0.5828 - val_accuracy: 0.7164\n",
      "Epoch 32/40\n",
      "34/34 [==============================] - 15s 429ms/step - loss: 0.5507 - accuracy: 0.7209 - val_loss: 0.5797 - val_accuracy: 0.6939\n",
      "Epoch 33/40\n",
      "34/34 [==============================] - 15s 447ms/step - loss: 0.5467 - accuracy: 0.7167 - val_loss: 0.5880 - val_accuracy: 0.7046\n",
      "Epoch 34/40\n",
      "34/34 [==============================] - 16s 464ms/step - loss: 0.5288 - accuracy: 0.7471 - val_loss: 0.5914 - val_accuracy: 0.7132\n",
      "Epoch 35/40\n",
      "34/34 [==============================] - 16s 468ms/step - loss: 0.5322 - accuracy: 0.7393 - val_loss: 0.5903 - val_accuracy: 0.6971\n",
      "Epoch 36/40\n",
      "34/34 [==============================] - 15s 447ms/step - loss: 0.5317 - accuracy: 0.7453 - val_loss: 0.5660 - val_accuracy: 0.7293\n",
      "Epoch 37/40\n",
      "34/34 [==============================] - 16s 461ms/step - loss: 0.5079 - accuracy: 0.7503 - val_loss: 0.5669 - val_accuracy: 0.7207\n",
      "Epoch 38/40\n",
      "34/34 [==============================] - 16s 462ms/step - loss: 0.5090 - accuracy: 0.7577 - val_loss: 0.5962 - val_accuracy: 0.6928\n",
      "Epoch 39/40\n",
      "34/34 [==============================] - 17s 506ms/step - loss: 0.5038 - accuracy: 0.7508 - val_loss: 0.5972 - val_accuracy: 0.6896\n",
      "Epoch 40/40\n",
      "34/34 [==============================] - 19s 558ms/step - loss: 0.4902 - accuracy: 0.7660 - val_loss: 0.5791 - val_accuracy: 0.7111\n"
     ]
    },
    {
     "data": {
      "text/plain": [
       "<matplotlib.legend.Legend at 0x7fbb6009e390>"
      ]
     },
     "execution_count": 48,
     "metadata": {},
     "output_type": "execute_result"
    },
    {
     "data": {
      "image/png": "[encoded data removed]",
      "text/plain": [
       "<Figure size 640x480 with 1 Axes>"
      ]
     },
     "metadata": {},
     "output_type": "display_data"
    }
   ],
   "source": [
    "# Step 3: Train the model\n",
    "callbacks = [\n",
    "    EarlyStopping(monitor='val_accuracy',\n",
    "                  min_delta=1e-3,\n",
    "                  patience=5,\n",
    "                  mode='max',\n",
    "                  restore_best_weights=True,\n",
    "                  verbose=1),\n",
    "]\n",
    "\n",
    "history = model.fit(x=X_train,\n",
    "                    y=y_train,\n",
    "                    batch_size=64,\n",
    "                    epochs=40,\n",
    "                    validation_data=(X_test, y_test),\n",
    "                    callbacks=callbacks)\n",
    "\n",
    "# Step 4: Save the model\n",
    "model.save('./models/activity.h5')\n",
    "\n",
    "# Step 5: Plot accuracies\n",
    "plt.plot(history.history['accuracy'], label='train')\n",
    "plt.plot(history.history['val_accuracy'], label='val')\n",
    "plt.xlabel('Epochs')\n",
    "plt.ylabel('Accuracy')\n",
    "plt.legend()"
   ]
  },
  {
   "cell_type": "code",
   "execution_count": 49,
   "id": "771ac674",
   "metadata": {},
   "outputs": [
    {
     "name": "stdout",
     "output_type": "stream",
     "text": [
      "68/68 [==============================] - 5s 63ms/step\n",
      "Using Training Data\n",
      "Confusion Matrix\n",
      "[[870 216]\n",
      " [238 847]] \n",
      "\n",
      "Accuracy: 0.790879778903731\n",
      "F1 Score: 0.7886405959031657\n",
      "30/30 [==============================] - 2s 59ms/step\n",
      "Using Test Data\n",
      "Confusion Matrix\n",
      "[[341 124]\n",
      " [145 321]] \n",
      "\n",
      "Accuracy: 0.7110633727175081\n",
      "F1 Score: 0.7047200878155873\n",
      "\n",
      "\n",
      "              precision    recall  f1-score   support\n",
      "\n",
      "         0.0       0.70      0.73      0.72       465\n",
      "         1.0       0.72      0.69      0.70       466\n",
      "\n",
      "    accuracy                           0.71       931\n",
      "   macro avg       0.71      0.71      0.71       931\n",
      "weighted avg       0.71      0.71      0.71       931\n",
      "\n"
     ]
    }
   ],
   "source": [
    "from tensorflow.keras.models import load_model\n",
    "import pandas as pd\n",
    "import numpy as np\n",
    "\n",
    "pred_model = load_model('./models/activity.h5')\n",
    "\n",
    "y_true, y_pred = y_train, pred_model.predict(X_train)\n",
    "\n",
    "y_pred = [1.0 if logit > 0.5 else 0.0 for logit in y_pred]\n",
    "CMat = confusion_matrix( y_true, y_pred )\n",
    "    \n",
    "print(\"Using Training Data\")\n",
    "print(\"Confusion Matrix\")\n",
    "print(CMat, '\\n')    # [[TN, FP],[FN, TP]]\n",
    "acc  = accuracy_score(y_true, y_pred)\n",
    "f1 = f1_score(y_true, y_pred)\n",
    "print(f\"Accuracy: {acc}\\nF1 Score: {f1}\")\n",
    "\n",
    "y_true, y_pred = y_test, pred_model.predict(X_test)\n",
    "\n",
    "y_pred = [1.0 if logit > 0.5 else 0.0 for logit in y_pred]\n",
    "CMat = confusion_matrix( y_true, y_pred )\n",
    "\n",
    "print(\"Using Test Data\")\n",
    "print(\"Confusion Matrix\")\n",
    "print(CMat, '\\n')    # [[TN, FP],[FN, TP]]\n",
    "acc  = accuracy_score(y_true, y_pred)\n",
    "f1 = f1_score(y_true, y_pred)\n",
    "print(f\"Accuracy: {acc}\\nF1 Score: {f1}\")\n",
    "print(\"\\n\")\n",
    "print(classification_report(y_true, y_pred))"
   ]
  }
 ],
 "metadata": {
  "kernelspec": {
   "display_name": "Python 3 (ipykernel)",
   "language": "python",
   "name": "python3"
  },
  "language_info": {
   "codemirror_mode": {
    "name": "ipython",
    "version": 3
   },
   "file_extension": ".py",
   "mimetype": "text/x-python",
   "name": "python",
   "nbconvert_exporter": "python",
   "pygments_lexer": "ipython3",
   "version": "3.7.12"
  }
 },
 "nbformat": 4,
 "nbformat_minor": 5
}
