{
 "cells": [
  {
   "cell_type": "markdown",
   "id": "07511a28",
   "metadata": {},
   "source": [
    "# Building a random forest classifier using MACCS keys to predict if a compound can cross the blood brain barrier"
   ]
  },
  {
   "cell_type": "code",
   "execution_count": 1,
   "id": "faecd116",
   "metadata": {},
   "outputs": [],
   "source": [
    "import pandas as pd\n",
    "import numpy as np\n",
    "from tqdm import tqdm\n",
    "import matplotlib.pyplot as plt\n",
    "\n",
    "from rdkit import Chem\n",
    "from rdkit.Chem import PandasTools\n",
    "from rdkit.Chem import MACCSkeys\n",
    "\n",
    "from sklearn.model_selection import train_test_split\n",
    "from sklearn.ensemble import RandomForestClassifier\n",
    "from sklearn.metrics import classification_report\n",
    "from sklearn.metrics import confusion_matrix \n",
    "from sklearn.metrics import accuracy_score\n",
    "from sklearn.metrics import roc_auc_score\n",
    "from sklearn.metrics import f1_score"
   ]
  },
  {
   "cell_type": "markdown",
   "id": "8c9b9609",
   "metadata": {},
   "source": [
    "# EDA and data cleaning"
   ]
  },
  {
   "cell_type": "code",
   "execution_count": 2,
   "id": "2fdb9518",
   "metadata": {},
   "outputs": [
    {
     "name": "stderr",
     "output_type": "stream",
     "text": [
      "[16:48:37] Explicit valence for atom # 10 C greater than permitted\n",
      "[16:48:37] ERROR: Could not sanitize molecule ending on line 784435\n",
      "[16:48:37] ERROR: Explicit valence for atom # 10 C greater than permitted\n",
      "[16:48:38] Can't kekulize mol.  Unkekulized atoms: 18 19 20 21 22 42 43 44 45 46\n",
      "[16:48:38] ERROR: Could not sanitize molecule ending on line 924500\n",
      "[16:48:38] ERROR: Can't kekulize mol.  Unkekulized atoms: 18 19 20 21 22 42 43 44 45 46\n",
      "[16:48:41] Explicit valence for atom # 10 C greater than permitted\n",
      "[16:48:41] ERROR: Could not sanitize molecule ending on line 1209257\n",
      "[16:48:41] ERROR: Explicit valence for atom # 10 C greater than permitted\n"
     ]
    },
    {
     "data": {
      "text/html": [
       "<div>\n",
       "<style scoped>\n",
       "    .dataframe tbody tr th:only-of-type {\n",
       "        vertical-align: middle;\n",
       "    }\n",
       "\n",
       "    .dataframe tbody tr th {\n",
       "        vertical-align: top;\n",
       "    }\n",
       "\n",
       "    .dataframe thead th {\n",
       "        text-align: right;\n",
       "    }\n",
       "</style>\n",
       "<table border=\"1\" class=\"dataframe\">\n",
       "  <thead>\n",
       "    <tr style=\"text-align: right;\">\n",
       "      <th></th>\n",
       "      <th>Name</th>\n",
       "      <th>NO.</th>\n",
       "      <th>compound_name</th>\n",
       "      <th>IUPAC_name</th>\n",
       "      <th>CID</th>\n",
       "      <th>logBB</th>\n",
       "      <th>BBB+/BBB-</th>\n",
       "      <th>Inchi</th>\n",
       "      <th>reference</th>\n",
       "      <th>group</th>\n",
       "      <th>...</th>\n",
       "      <th>TPSAScore</th>\n",
       "      <th>HBDScore</th>\n",
       "      <th>HBAScore</th>\n",
       "      <th>PkbScore</th>\n",
       "      <th>PkaScore</th>\n",
       "      <th>CNSchemaxonScore</th>\n",
       "      <th>ID</th>\n",
       "      <th>ROMol</th>\n",
       "      <th>comments</th>\n",
       "      <th>threshold</th>\n",
       "    </tr>\n",
       "  </thead>\n",
       "  <tbody>\n",
       "    <tr>\n",
       "      <th>0</th>\n",
       "      <td>atoms 28 bonds 30</td>\n",
       "      <td>1</td>\n",
       "      <td>sulphasalazine</td>\n",
       "      <td>2-hydroxy-5-[[4-(pyridin-2-ylsulfamoyl)phenyl]...</td>\n",
       "      <td>5339</td>\n",
       "      <td>-2.69</td>\n",
       "      <td>BBB-</td>\n",
       "      <td>InChI=1S/C18H14N4O5S/c23-16-9-6-13(11-15(16)18...</td>\n",
       "      <td>R2|R2|R25|R46|</td>\n",
       "      <td>A</td>\n",
       "      <td>...</td>\n",
       "      <td>0.0</td>\n",
       "      <td>0.0</td>\n",
       "      <td>0.0</td>\n",
       "      <td>0.5</td>\n",
       "      <td>-2.125</td>\n",
       "      <td>-0.27421428571428574</td>\n",
       "      <td>atoms 28 bonds 30</td>\n",
       "      <td style=\"text-align: center;\"><img data-content=\"rdkit/molecule\" src=\"data:image/png;base64,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\" alt=\"Mol\"/></td>\n",
       "      <td>NaN</td>\n",
       "      <td>NaN</td>\n",
       "    </tr>\n",
       "    <tr>\n",
       "      <th>1</th>\n",
       "      <td>atoms 36 bonds 39</td>\n",
       "      <td>2</td>\n",
       "      <td>moxalactam</td>\n",
       "      <td>7-[[2-carboxy-2-(4-hydroxyphenyl)acetyl]amino]...</td>\n",
       "      <td>3889</td>\n",
       "      <td>-2.52</td>\n",
       "      <td>BBB-</td>\n",
       "      <td>InChI=1S/C20H20N6O9S/c1-25-19(22-23-24-25)36-8...</td>\n",
       "      <td>R25|</td>\n",
       "      <td>A</td>\n",
       "      <td>...</td>\n",
       "      <td>0.0</td>\n",
       "      <td>0.0</td>\n",
       "      <td>0.0</td>\n",
       "      <td>0.5</td>\n",
       "      <td>-0.085</td>\n",
       "      <td>1.415</td>\n",
       "      <td>atoms 36 bonds 39</td>\n",
       "      <td style=\"text-align: center;\"><img data-content=\"rdkit/molecule\" src=\"data:image/png;base64,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\" alt=\"Mol\"/></td>\n",
       "      <td>NaN</td>\n",
       "      <td>NaN</td>\n",
       "    </tr>\n",
       "    <tr>\n",
       "      <th>2</th>\n",
       "      <td>atoms 13 bonds 14</td>\n",
       "      <td>3</td>\n",
       "      <td>clioquinol</td>\n",
       "      <td>5-chloro-7-iodoquinolin-8-ol</td>\n",
       "      <td>2788</td>\n",
       "      <td>-2.4</td>\n",
       "      <td>BBB-</td>\n",
       "      <td>InChI=1S/C9H5ClINO/c10-6-4-7(11)9(13)8-5(6)2-1...</td>\n",
       "      <td>R18|R26|R27|</td>\n",
       "      <td>A</td>\n",
       "      <td>...</td>\n",
       "      <td>0.6559999999999999</td>\n",
       "      <td>0.8333333333333334</td>\n",
       "      <td>1.0</td>\n",
       "      <td>0.5</td>\n",
       "      <td>0.0</td>\n",
       "      <td>5.059333333333333</td>\n",
       "      <td>atoms 13 bonds 14</td>\n",
       "      <td style=\"text-align: center;\"><img data-content=\"rdkit/molecule\" src=\"data:image/png;base64,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\" alt=\"Mol\"/></td>\n",
       "      <td>NaN</td>\n",
       "      <td>NaN</td>\n",
       "    </tr>\n",
       "    <tr>\n",
       "      <th>3</th>\n",
       "      <td>atoms 19 bonds 19</td>\n",
       "      <td>4</td>\n",
       "      <td>bbcpd11 (cimetidine analog) (y-g13)</td>\n",
       "      <td>2-[2-[(3-bromopyridin-2-yl)methylsulfanyl]ethy...</td>\n",
       "      <td>14022517</td>\n",
       "      <td>-2.15</td>\n",
       "      <td>BBB-</td>\n",
       "      <td>InChI=1S/C12H16BrN5S/c1-2-15-12(18-9-14)17-6-7...</td>\n",
       "      <td>R2|R2|R8|R40|R2|R2|R2|R2|R18|R21|R25|R25|R26|R...</td>\n",
       "      <td>A</td>\n",
       "      <td>...</td>\n",
       "      <td>0.8966666666666668</td>\n",
       "      <td>0.5</td>\n",
       "      <td>0.5</td>\n",
       "      <td>0.5</td>\n",
       "      <td>0.0</td>\n",
       "      <td>4.3966666666666665</td>\n",
       "      <td>atoms 19 bonds 19</td>\n",
       "      <td style=\"text-align: center;\"><img data-content=\"rdkit/molecule\" src=\"data:image/png;base64,iVBORw0KGgoAAAANSUhEUgAAAMgAAADICAIAAAAiOjnJAAAABmJLR0QA/wD/AP+gvaeTAAAUuklEQVR4nO3deVxTV9oH8F8SIBChKAguqFWKLG7gjtZXhGKllmpHUXHc3k5dq63gXnCB1qqjFmlhrFhmrNXxxWF0bGu1Vhy1dApWFG0lVEW0RcYdlEhIAuS8f4TKFiCEe4iJz/eTP8jJvec+fPhx7pp7RYwxECI0sakLIJaJgkW4oGARLihYhAsKFuGCgkW4oGARLihYhAsKFuGCgkW4oGARLihYhAsKFuGCgkW4oGARLihYhAsKFuGCgkW4oGARLihYhAsKFuGCgkW4oGARLihYhAsKFuGCgkW4oGARLihYhAsKFuGCgkW4oGARLihYhAsKFuGCgkW4oGARLihYhAsKFuGCgkW4oGARLihYhAsKFuHCytQFGGrHDly7hi1bajXOnYvAQPj5Yd06BAVh/vzqj2Jj4eyMRYuMWVZYWNiPP/5Ys6VjxyG3b/+zzmSRkSgowL17SEqCTFbV+MMPiI/H3r2wsTFm0RbDbIJ17hzOnavbeOQIXF3RpQtSU/HFFwgIgI9P1UenT6NrVyOXdefOnYKCgtpt7nUbgEePcOwY5HK4uWHTpqrGggKkpmL3biMXbTHMJlhN8vXFwoU4cQIiUUu7OnDggEqlqtkiElnVf+aQoyNSUzFoEOLiMH06+vRp6XItieUEa+NGjB2LPXswc2ZLu3J1dTV84pAQtGuH+fORni5Api1GY8GKj49//Pixcf2Gh4d7eHgYN29DFAqcOFGrRa2u/tnLC2+/jWXLEBoKJ6eqxn/8A1eu6OnKxuYjjUZRr9FGo9HUn9jBYYBCMbZ++8iRVT/Ex8PPD3/9K2bPNvBXeQawhjXrH7eOcePGffzxx4103lyzZzMrK+bqWuslFrPoaPbddwxgBQWspIS5ubE5cxhjLDCQzZzJQkMZoOfl6tqxfs0N/b6DB7+nt5N161ivXmz1asYYW7aMOTuzu3dZSgoDmFIp4K9ulhobsSIjI40bsfLy8vbv33/q1KnJkyd36NDBiB706tsX58/XaunSpdZbBwd8+CH++MfqkWPKFPj66ulKKo1Qq+uOWFKpVF1zDPydo6Pvyy/r6WTkSKSmVv0cG4vUVKxZg8BAA36TZ0BjwVq1apXR/ZaUlBw9ejQmJuaTTz4xuhMjTJmC5GQsXQorKwCYPr2hCVcKu1yZDFu3Ijwczs7CdmyueG28x8XFpaWl7dy5c/bs2QMHDuS0FL0SE+HrC4kE3boZ2UNxcXGdjS2RyIqxupGxt6/1NiwMwcH46CMjF2pheB159/b2XrhwoVarjYiIYK37dGAvLyxdCqXS+B7GjRvXsbZBgyZ27Ig6rzpHawEkJqKysiW1Ww6OhxvWrVu3d+/e77///l//Ojphgp69qmbx9UWbNnUbg4Ph7Q17ewQHw9a2uj06Gjk56N3byGU5OTnV2ZB3cnqu/taXvT2GDcMLL1S3eHhg0yYcPgzxM3+qTMR1OElO/r89e/oUFva5dElU8w8voLIy+PlhwgTExEAq5bIIYgS+/1lvvDH10aO+166JPvyQ1yI2b8aVK/jmm6qtdfKU4DtiATh1CoGBkMmQm2v81nRDbt6EtzdKS3HqFAICBO6ctAT3bYFRozBxIpRKrF4tfOcrVqC0FFOmUKqeOtxHLAC//QYfH5SV4bvvMGKEYN1mZODFF2FrC7kc3bsL1i0RRGvsvXTrhogIMIbt2wXrU6vVxsaqGMOyZZSqp5HAW7y5uXByQs2zOCoVrlxBRATs7DB6NFSq6uMCWi2ys+Hujnbtmr2g3bt3p6evGDfui5UrhwtTOhGUwCNWYCDqnMKRy+Hri+vXUVICf3+sX1/9kVKJQYPqXrBgCIVCER0drVTenzLlRv2DW+Rp0KoH8mQybNkCubyl/axfv/7WrVvDhg2bOnWqEHUR4bVqsLy8EBSEBQvQkh2G/Pz8jz76SCwWx8fHi+jKuqdVa596iItDRkaLLglfsmSJWq2eNWvWkCFDhKuLCEz4w9V/+xuOH69+W1pa61MfH7z9NpYvx2uvVZ+B0XtmzcfnXG7u4PrtdnZ2Mpnsgw8+EKxiwoHwwerXD6Gh1W8LCnDxYq0JYmKwfz/efRdxcQDAmP41o+5CRL2LEIlEYjrN+3QTPliDBtX6ft/589iwodYEDg6Ii8PUqZgxAwBEIv2XmohEgxjT88Hrr7/+1VdfRUdHJycnC1k3EZRp/u8nT8ZLL2H58t+LEOt5iUQQ67Nt2zapVLpr166zZ8+apHhiCJOtUP7yF1y40IzpNRrNwYMHAbzwwgvvvPOOVqtdvHhxK19CSAxnsmD17IllywydmDE2fPjwiRMnpqWlAVizZk2nTp0yMjJSUlI4lkhaQtgv/Vy8yP7731otSiXLymKlpayggMnltT4qK2NZWayoyKCeN23aBMDHx0ej0TDGkpOT7eycxo//rrRUqNqJkAQOFj9qtbpnz54AEhISGGOVlZVjxih1X+4jTyGz2Wm3sbHZsmULgD17fioqglgsXrvWTiTC5s349VdTF0fqM3Wym2fOnIsSCVu0qOpteDgDWHi4SWsi+rTGhX4Cksvh51d1vU3fvtWXJp8+XX0nBfI0MJtVoU6vXpg7F5WViIgAgC5dqnYtIyKg1Zq2NFKLmY1YAB48gKcnlEpkZ8PbG0ol+vXDhAl47z1w+oYZMYKZjVgAnJ2xdy9ycuDtDQAyGQ4exI0b2LWr1mSxsUhMNEmBBDDHEau+9HSMHAkbG1y4UH2ryKAgdO1Kt2w0GfMbsRri59fSSwiJgCwnWBs3IiMDn39u6joIAEu6B6mnJxYvxvLlCA2tvklVSgouX9YzsY1NXP1bRTo4OCxZsoRzmc8Ky9nGKiiAoyN8fBASguTkqm2soiIcPqxnFlfXTnfv3q7T6Ozs7OXllZqa2rlz59ao26JZzoiF3y8hDA/H3LlVLVOnYsAAPVPa2CytP2IdPHjwhx9+iIqK+uyzz/gW+gywqBFLd0vSMWNQWgpra3Tr1ry9wvz8/N69e6vV6oyMjKFDh3Kq9hlhORvvTyQkICsLtR9ZYhB3d/fIyEjGWOvfhdDyWGCwPD2xfLmRt4qMiorq3LlzZmbm3//+d6HrerZYQrDat8ekSbCzq26JisKMGRis58tjTbC3t9+wYQOAVatWGf3wBALL2MYSFmPM39//xx9/XL169fvvv2/qcswVBUuPzMzM4cOHS6VSuVzeo0cPU5djlixhVSg4f3//adOmqVSqFStWmLoWc0Ujln6FhYXe3t6PHz8+fvx4cHCwqcsxPzRi6efm5rZy5UoAERERFRUVpi7H/NCI1SCVSuXj43Pjxo0dO3bMmzfP1OWYGRqxGmRra7t582YAUVFRRUVFLelKq1Wp1XkVFfcFKq0JxcU4dw4PHtRqzMnBzZuts3yAgtW4SZMmjRo1qqioaH3NW1w2R2Xlo/z88Oxs2aVLPS9edJHL+1ZWFgtbZH0nTmDQIEycWOvqtMmT8fHHvJdcjYLVhPj4eIlEkpCQkJOTY8TshYUrFYp/e3qm9e//uG/f6x06LJNImn8rX6OcPYt9+1pnUXpQsJrg6+v75ptvVlRUREZGGjG7QnGybdvXHRyCxOI2NjbdnZ1nCV5hQyIjsXQpirmPj/pRsJq2fv36tm3bHj9+/MiRI82dVyJxVCj+rdH8xqOwxq1YAVtbREe3/pIBCpYhXFxc1q5dC+DVV18V6ZOd3fHcOVH9V2np2U6dYsrL/5uT45WfP6Wk5BjQet9+tLPD5s1ISkJmZnXj4MEQifS8xGJx/d/Lz8/v2LFjxi2dgmWQRYsWHa95Z1WDOTqO7dMnr3Pn91Wqy1evhly5MpoxPY+d5kR3g7u33jLy8Zx5eXkhISEnT540ZmbTfLP/mXT//udZWXjwYA/vBaWmMoBpNIwxdvkyk0pZUhLr1YstX968fnT7wr179y4vL29uDTRitR5n5xlisZ1afb01F6q7Om3tWhhxEdCyZcs8PDxycnKMuN2rRV3z/hR6/DhdJhssFtsCePjwkFZbZmfXt5VriIrCvn3Iz69uOX4cqam1phGL52tr3P1iwoQJISEhUql006ZNYWFh0dHRkyZNcnau+7j1xjR3iCOG02rVFy92Pn/ePjfXXy73y8oS5ef/kTEt7+XWXBXqHD3KgOpV4ZYtDKj1qvOMj40bNz6Zd/To0QB0l2sbjs4V8sVYxePH/1Gr8wDIZANksv4Ayspy7OyMfRK6AbZuxcCBGDUKNdNy4QLat6/6vslPP9XaVQQgEn1aMwlDhw719fXV/ZyTk+Pn5wcgOzu7T58+hhbR4n8P0gxareby5aBz56QqVR6nRXz5JQNYz56sslKwPufPnw8gODjY8Flo471ViUTWNjbdGFPfvGnwLaObQ6OpumHYokX6HyRjnA8++MDZ2TktLe3rr782dB7BUk0Mo9Hczs5+LisLjx59I3jnf/4zA5iPT60NLEFs27YNgIeHh0qlMmR6CpYJ3Lq1MSsLly710mqF/PvfucMcHRnAjh4VsNcq5eXlvXv3BrB161ZDpqdgmYBWq/75555ZWbh7N1HAbt98kwHstdcE7LIW3bkHBweHW7duNTkxbWOZgEhk06XL5vJyaWLi1y28hPCJ8+fPX7v2tZMT27pVkP70CA4OfvXVVxUKhe7MaRN4xZs0ZcaMSQAWPbm3eAtotdoRI0YAWLUqtuW9NeLq1atSqVQsFp89e7bxKSlYJpOTk2NlZSWRSH766acWdrVv3z4Arq6uDx8+FKS2RuhuIfbiiy9qtY0d6aVgmdLChQsBBAUFtaQTpVL5/PPPA0hOThaqsEY8evSoY8eOAPbv39/IZBQsUyoqKtKdgDt06JDRnaxbtw5A//79KwU8JNqopKQkAF27di1t+BFZdErHxBISEt555x1XV9c5c+ZIJJLmzl5SUrJjxw6VSnX69OmRrfVwDq1WO3To0KysrNjY2AY35Fsn46Qh5eXlL7300pMTc0Zwd3f39PR80qFKpdq7d6/gdaanp1++fPnJ28TERCcnpwMHDjQ0PV02Y2JWVlZpaWkpKSmX9d6FtyklJSXbt2/XjVgBAQGMsYCAgDNnzshksj/84Q9CFalSqWbOnFlYWHjq1Klhw4ZVVlZ++umnRUVFubm5Dc4jeLRJK4uJiQHg5+dXUVHBGEtMTATg7u5eVlYm1CJ0t3N6cinpJ598gqa2sShYZk+pVHbv3h3Azp07GWMVFRX9+vUDsGHDBkH6v3nzpr29PYBvv/2WMVZcXOzi4gIgNTW1kbkoWJZA92xsV1fX4uJixtiJEycA2NvbFxYWtrzz6dOnAwgLC9O9jYiIADBixAg6jvVMCAgIALB06VLdW90G1qxZs1rYbUZGhkgkkkqlV69eZYzl5uZaW1uLxeKsrKzGZ6RgWYjs7GyJRGJjY/PLL78wxq5du2ZraysSic6cOWN0n7rDCgCio6N1La+88gqAefPmNTkvBctyzJ49G0BoaKju7apVqwD4+/s3vs5qhO5BCm5ubgqFgjF2+PBhAM8995whVzdQsCzHnTt3HB0dARw5coQxplAodM9u2bPHmG8yPpn9888/Z4xpNBovLy8AcXFxhsxOwbIoW7ZsAeDt7a3RaBhju3btqjnkNMu7775bc8DbunUrAA8PD7VabcjsFCyLolardeNKfHw8Y0yr1Q4ZMgTA6tWrm9VPfn6+bhMtMzOTMXb37t22bds+GQsNQcGyNF999RWAdu3a3bt3j/2+W2dra3v9+nXDO5kwYQKAmTNn6t7OnTsXwNixYw3vgYJlgUJCQgAsWLBA93batGkAlht854arV69aWVk9OQym29+0trbW7W8aiIJlgeRyubW1tUQiuXDhAmOsoKBg586duhM+Bvr5559TUlJ0P+uOkC1ZsqRZNVCwLNPixYsBBAYGtrCf/fv3A3BxcdEd0zccBcsyFRUVtW/fHkAjV7Y0qaysTHcWMikpqbnzUrAs1vbt2wH06NGjtLS00iixsbEAfH19m7Ua1aErSC1WZWWlj4/Pr7/+qtFojOuhTZs2paWlJ0+eHDVqVHPnpe8VWizdyAFA731TDeHl5fXtt98akSrQjdcs2I4dO/Ly8tzd3eVyuVQqbeWl06rQMhUXF3t6et6/f//QoUPjx49v/QJoVWiZ1q5de//+/aCgIJOkCjRiWSS5XO7n56fVarOzs/v2be1bnurQiGWBlixZUl5evmDBAlOlCjRiWZ7M79JGBI1xdGx75cqV5t3nWFAULItSWVG+/a2ASkg6j/zT5OlvmLASWhValMxDO4tu3bC2EoeFTzdtJRQsy1H68F76PxMAhMyOFVtZm7YYCpblSNu9QV1a4jV0zAsDRpm6FgqWpbidf+niiVSJlfXoN9aYuhaATumYhbxzJzMO7QAgllg7OHXo6jOoX2CYpMbKjjF2dOcaxrT+4+c7u7mbrtJqNGKZAUXRnfwL6T36jejeZ5iVtfRYckzK+v+tuTv/S8bR33LOtGnr8j+TF5uwzppoxDIbL058SySWAHDz6n9o2+KHt39t16m77iOvIaNffnOdfTtXqczBlCXWQMEyPza2bQBUlKu/2blG5uj8oPBabsbRIaFvDHt9nqlLq0bBMhv5F78H8PDOb+mpCb1GvObSzav00f2zR3YPCf3TpJVJji5upi6wFgqW2fh6+yqm1T5+eE9iZd1zYJCusYv3wDGzY0xZVgMoWGbj7aTvRWIJYywn/cuDHy4SS6wAWEvtTF2XfrRXaGZEIlGfkeOdOnW/fvF7U9fSGAqW+VGWFCke3HZ07WLqQhpDq0Kz8Z8D20UicWnJg9wfjtjYtRk8duY3nxrwsCQToWCZgXYduvYa8dqt/EsAbKSywWNnDnh5mq29o5vngHK10tTV6UfXYxEuaBuLcEHBIlxQsAgXFCzCBQWLcEHBIlxQsAgXFCzCBQWLcEHBIlxQsAgXFCzCBQWLcEHBIlxQsAgXFCzCBQWLcEHBIlxQsAgXFCzCBQWLcEHBIlxQsAgXFCzCBQWLcEHBIlxQsAgXFCzCBQWLcEHBIlxQsAgXFCzCBQWLcEHBIlxQsAgXFCzCBQWLcEHBIlxQsAgXFCzCBQWLcPH/X0STZw7bcsgAAAErelRYdHJka2l0UEtMIHJka2l0IDIwMjIuMDMuNQAAeJx7v2/tPQYg4GWAAEYgFobiBkY2hgSQGDOEZmJiZ8gA0sxMQAkNEIOFHULDFcBoAQYFEA0XdoAqd4AqdwCbw8yIjQFRqgw2gRHNRiaojUzM3ECnMjIBGSoszCxaTEArWVlYWVhY2RjY2BnYORg4OBk4+TKYOLkSuLgzmLh5Enh4M5h4+RL4+BmYBVRYBAQVBIU0mEUY2Ti5uHl4+cTfQT0PBsJ8unkHVjV1OoA4tfaWcPaWE3IHpPVTwWy3bZf3w9hbTszb/yjCHCa+D8YGgVVNnFDxYHsYG6je/lHEdnsQ+00giwOMDTTfAUk9nA10D1wNSBxoPlw9jA0yBxRrMPfA3AxyDxLbDsYWAwCtNlSvu8vyVQAAAZJ6VFh0TU9MIHJka2l0IDIwMjIuMDMuNQAAeJyNVE1vgzAMvfMr/AcaxYnzdSxQTdNUKq3d7pt22WGrtPX/azYdJKgMFjAyTw87yXvh5XL++AZM8Hr+fJOkAhmP7cP7BcZh2opxvXCnlODZaq2rPUgC9e7uvoPmtK0HpDk8daej9OJbyzXlbk+H/YAgNLCxKhh0WgMpk4LhRCvdj/ypEaJRMdEK0UInRIoosFXumtwSSSqi8o5WiE4qojKkpTXPwVOcJXqpqBWhXSEGJo6oUUjRz/IiHBmNJqzwEtcbJ4iKLKdzPGRxuI72YY2IvOZxExc6o+hildVxjWh74q/QS62prKhVQD8vNLp+MTTI9jfRQ/2Vl73JjFtqmGi9YDOME7GXmIlr/oe469rJ2bielvrQtfm0yGXymeAXsNn5yEHZ34bDZRcjh89eRY6QHYkcMRsPOVL2F0qUPiJ5oCsMc0WwcAYJjKawAAmMttCaBEYqRCWBi8oyU4bRFyL13UKhBfZoLPbc9nAqN7fcSnkfflqcVz8R4/SvBnIGLwAAALN6VFh0U01JTEVTIHJka2l0IDIwMjIuMDMuNQAAeJxVjz0OwyAMha9SqQtI4NjG/ESoS9lZegT2Dp1z+FIl0GSx/Nl6fs+l1KWoRy/lVRo19fzo1tqbdC33etuUdRCZvBHgNbLJliGtcmFJZBz4XrMlCF5OxILedEmQ1BlByP0Ze0eSQu8gcZx0yAjEsZjMgCGe8WeIECnwXKLJDhymOT9iD9G+HAb7iUEj5nzpiDn4inr7AlJsPyjYVuvNAAAAAElFTkSuQmCC\" alt=\"Mol\"/></td>\n",
       "      <td>NaN</td>\n",
       "      <td>NaN</td>\n",
       "    </tr>\n",
       "    <tr>\n",
       "      <th>4</th>\n",
       "      <td>atoms 41 bonds 46</td>\n",
       "      <td>5</td>\n",
       "      <td>schembl614298</td>\n",
       "      <td>(2s,3s,4s,5r)-6-[[(4r,4ar,7s,7ar,12bs)-7-hydro...</td>\n",
       "      <td>18595497</td>\n",
       "      <td>-2.15</td>\n",
       "      <td>BBB-</td>\n",
       "      <td>InChI=1S/C23H27NO9/c1-24-7-6-23-10-3-4-12(25)2...</td>\n",
       "      <td>R25|</td>\n",
       "      <td>A</td>\n",
       "      <td>...</td>\n",
       "      <td>0.0</td>\n",
       "      <td>0.0</td>\n",
       "      <td>0.0</td>\n",
       "      <td>0.41500000000000004</td>\n",
       "      <td>0.0</td>\n",
       "      <td>-0.3097642857142856</td>\n",
       "      <td>atoms 41 bonds 46</td>\n",
       "      <td style=\"text-align: center;\"><img data-content=\"rdkit/molecule\" src=\"data:image/png;base64,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\" alt=\"Mol\"/></td>\n",
       "      <td>NaN</td>\n",
       "      <td>NaN</td>\n",
       "    </tr>\n",
       "  </tbody>\n",
       "</table>\n",
       "<p>5 rows × 35 columns</p>\n",
       "</div>"
      ],
      "text/plain": [
       "                Name NO.                        compound_name  \\\n",
       "0  atoms 28 bonds 30   1                       sulphasalazine   \n",
       "1  atoms 36 bonds 39   2                           moxalactam   \n",
       "2  atoms 13 bonds 14   3                           clioquinol   \n",
       "3  atoms 19 bonds 19   4  bbcpd11 (cimetidine analog) (y-g13)   \n",
       "4  atoms 41 bonds 46   5                        schembl614298   \n",
       "\n",
       "                                          IUPAC_name       CID  logBB  \\\n",
       "0  2-hydroxy-5-[[4-(pyridin-2-ylsulfamoyl)phenyl]...      5339  -2.69   \n",
       "1  7-[[2-carboxy-2-(4-hydroxyphenyl)acetyl]amino]...      3889  -2.52   \n",
       "2                       5-chloro-7-iodoquinolin-8-ol      2788   -2.4   \n",
       "3  2-[2-[(3-bromopyridin-2-yl)methylsulfanyl]ethy...  14022517  -2.15   \n",
       "4  (2s,3s,4s,5r)-6-[[(4r,4ar,7s,7ar,12bs)-7-hydro...  18595497  -2.15   \n",
       "\n",
       "  BBB+/BBB-                                              Inchi  \\\n",
       "0      BBB-  InChI=1S/C18H14N4O5S/c23-16-9-6-13(11-15(16)18...   \n",
       "1      BBB-  InChI=1S/C20H20N6O9S/c1-25-19(22-23-24-25)36-8...   \n",
       "2      BBB-  InChI=1S/C9H5ClINO/c10-6-4-7(11)9(13)8-5(6)2-1...   \n",
       "3      BBB-  InChI=1S/C12H16BrN5S/c1-2-15-12(18-9-14)17-6-7...   \n",
       "4      BBB-  InChI=1S/C23H27NO9/c1-24-7-6-23-10-3-4-12(25)2...   \n",
       "\n",
       "                                           reference group  ...  \\\n",
       "0                                     R2|R2|R25|R46|     A  ...   \n",
       "1                                               R25|     A  ...   \n",
       "2                                       R18|R26|R27|     A  ...   \n",
       "3  R2|R2|R8|R40|R2|R2|R2|R2|R18|R21|R25|R25|R26|R...     A  ...   \n",
       "4                                               R25|     A  ...   \n",
       "\n",
       "            TPSAScore            HBDScore HBAScore             PkbScore  \\\n",
       "0                 0.0                 0.0      0.0                  0.5   \n",
       "1                 0.0                 0.0      0.0                  0.5   \n",
       "2  0.6559999999999999  0.8333333333333334      1.0                  0.5   \n",
       "3  0.8966666666666668                 0.5      0.5                  0.5   \n",
       "4                 0.0                 0.0      0.0  0.41500000000000004   \n",
       "\n",
       "  PkaScore      CNSchemaxonScore                 ID  \\\n",
       "0   -2.125  -0.27421428571428574  atoms 28 bonds 30   \n",
       "1   -0.085                 1.415  atoms 36 bonds 39   \n",
       "2      0.0     5.059333333333333  atoms 13 bonds 14   \n",
       "3      0.0    4.3966666666666665  atoms 19 bonds 19   \n",
       "4      0.0   -0.3097642857142856  atoms 41 bonds 46   \n",
       "\n",
       "                                               ROMol comments threshold  \n",
       "0  <img data-content=\"rdkit/molecule\" src=\"data:i...      NaN       NaN  \n",
       "1  <img data-content=\"rdkit/molecule\" src=\"data:i...      NaN       NaN  \n",
       "2  <img data-content=\"rdkit/molecule\" src=\"data:i...      NaN       NaN  \n",
       "3  <img data-content=\"rdkit/molecule\" src=\"data:i...      NaN       NaN  \n",
       "4  <img data-content=\"rdkit/molecule\" src=\"data:i...      NaN       NaN  \n",
       "\n",
       "[5 rows x 35 columns]"
      ]
     },
     "execution_count": 2,
     "metadata": {},
     "output_type": "execute_result"
    }
   ],
   "source": [
    "# Load data\n",
    "raw_df = PandasTools.LoadSDF(\"AllCNSdata.sdf\")\n",
    "raw_df.head()"
   ]
  },
  {
   "cell_type": "code",
   "execution_count": 3,
   "id": "3b3276ea",
   "metadata": {},
   "outputs": [
    {
     "data": {
      "text/html": [
       "<div>\n",
       "<style scoped>\n",
       "    .dataframe tbody tr th:only-of-type {\n",
       "        vertical-align: middle;\n",
       "    }\n",
       "\n",
       "    .dataframe tbody tr th {\n",
       "        vertical-align: top;\n",
       "    }\n",
       "\n",
       "    .dataframe thead th {\n",
       "        text-align: right;\n",
       "    }\n",
       "</style>\n",
       "<table border=\"1\" class=\"dataframe\">\n",
       "  <thead>\n",
       "    <tr style=\"text-align: right;\">\n",
       "      <th></th>\n",
       "      <th>BBB_penetrance</th>\n",
       "      <th>ROMol</th>\n",
       "      <th>smiles</th>\n",
       "    </tr>\n",
       "  </thead>\n",
       "  <tbody>\n",
       "    <tr>\n",
       "      <th>0</th>\n",
       "      <td>BBB-</td>\n",
       "      <td style=\"text-align: center;\"><img data-content=\"rdkit/molecule\" src=\"data:image/png;base64,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\" alt=\"Mol\"/></td>\n",
       "      <td>O=C(O)c1cc(/N=N/c2ccc(S(=O)(=O)Nc3ccccn3)cc2)c...</td>\n",
       "    </tr>\n",
       "  </tbody>\n",
       "</table>\n",
       "</div>"
      ],
      "text/plain": [
       "  BBB_penetrance                                              ROMol  \\\n",
       "0           BBB-  <img data-content=\"rdkit/molecule\" src=\"data:i...   \n",
       "\n",
       "                                              smiles  \n",
       "0  O=C(O)c1cc(/N=N/c2ccc(S(=O)(=O)Nc3ccccn3)cc2)c...  "
      ]
     },
     "execution_count": 3,
     "metadata": {},
     "output_type": "execute_result"
    }
   ],
   "source": [
    "# Select relevant columns\n",
    "df = raw_df[['BBB+/BBB-', 'ROMol']].copy()\n",
    "df.columns = ['BBB_penetrance', 'ROMol']\n",
    "df['smiles'] = df.ROMol.apply(lambda x: Chem.MolToSmiles(x))\n",
    "df.head(1)"
   ]
  },
  {
   "cell_type": "code",
   "execution_count": 4,
   "id": "6532a746",
   "metadata": {},
   "outputs": [
    {
     "data": {
      "text/plain": [
       "BBB_penetrance    0\n",
       "ROMol             0\n",
       "smiles            0\n",
       "dtype: int64"
      ]
     },
     "execution_count": 4,
     "metadata": {},
     "output_type": "execute_result"
    }
   ],
   "source": [
    "# Check for missing values\n",
    "df.isna().sum()"
   ]
  },
  {
   "cell_type": "code",
   "execution_count": 5,
   "id": "cc1126f4",
   "metadata": {},
   "outputs": [
    {
     "data": {
      "text/plain": [
       "BBB+    4956\n",
       "BBB-    2848\n",
       "Name: BBB_penetrance, dtype: int64"
      ]
     },
     "execution_count": 5,
     "metadata": {},
     "output_type": "execute_result"
    }
   ],
   "source": [
    "# Check balance of dataset\n",
    "df[\"BBB_penetrance\"].value_counts()"
   ]
  },
  {
   "cell_type": "code",
   "execution_count": 6,
   "id": "ad6e690a",
   "metadata": {},
   "outputs": [
    {
     "data": {
      "text/plain": [
       "False    7699\n",
       "True      105\n",
       "Name: smiles, dtype: int64"
      ]
     },
     "execution_count": 6,
     "metadata": {},
     "output_type": "execute_result"
    }
   ],
   "source": [
    "# Check for duplicated values\n",
    "df.smiles.duplicated().value_counts()"
   ]
  },
  {
   "cell_type": "code",
   "execution_count": 7,
   "id": "54af8e55",
   "metadata": {},
   "outputs": [
    {
     "name": "stdout",
     "output_type": "stream",
     "text": [
      "# 4 SMILES strings with conflicting activities, associated with 9 entries.\n"
     ]
    }
   ],
   "source": [
    "# Checking for duplicates with conflicts\n",
    "smiles_conflict = []\n",
    "idx_conflict = []\n",
    "\n",
    "for smiles in df['smiles'].unique() :\n",
    "\n",
    "    \n",
    "    outcomes = df[ df.smiles == smiles ].BBB_penetrance.unique()\n",
    "    \n",
    "    if len(outcomes) > 1 :\n",
    "        \n",
    "        idx_tmp = df.index[ df.smiles == smiles ].tolist()\n",
    "        idx_conflict.extend(idx_tmp)\n",
    "        smiles_conflict.append(smiles)\n",
    "\n",
    "print(\"#\", len(smiles_conflict), \"SMILES strings with conflicting activities, associated with\", len(idx_conflict), \"entries.\")"
   ]
  },
  {
   "cell_type": "code",
   "execution_count": 8,
   "id": "f3c11e43",
   "metadata": {},
   "outputs": [],
   "source": [
    "# Removing conflicts\n",
    "df = df.drop(idx_conflict)"
   ]
  },
  {
   "cell_type": "code",
   "execution_count": 9,
   "id": "b2017f4e",
   "metadata": {},
   "outputs": [
    {
     "data": {
      "text/plain": [
       "BBB+    4893\n",
       "BBB-    2802\n",
       "Name: BBB_penetrance, dtype: int64"
      ]
     },
     "execution_count": 9,
     "metadata": {},
     "output_type": "execute_result"
    }
   ],
   "source": [
    "df = df.drop_duplicates(subset='smiles')  # remove duplicate rows except for the first occurring row.\n",
    "df.BBB_penetrance.value_counts()"
   ]
  },
  {
   "cell_type": "markdown",
   "id": "12f5bc62",
   "metadata": {},
   "source": [
    "# Generating data"
   ]
  },
  {
   "cell_type": "code",
   "execution_count": 10,
   "id": "ea8e726c",
   "metadata": {},
   "outputs": [],
   "source": [
    "fps=dict()\n",
    "\n",
    "for idx, row in df.iterrows() :\n",
    "     fps[idx] = list(MACCSkeys.GenMACCSKeys(row.ROMol).ToBitString())"
   ]
  },
  {
   "cell_type": "code",
   "execution_count": 11,
   "id": "4c705477",
   "metadata": {},
   "outputs": [
    {
     "data": {
      "text/html": [
       "<div>\n",
       "<style scoped>\n",
       "    .dataframe tbody tr th:only-of-type {\n",
       "        vertical-align: middle;\n",
       "    }\n",
       "\n",
       "    .dataframe tbody tr th {\n",
       "        vertical-align: top;\n",
       "    }\n",
       "\n",
       "    .dataframe thead th {\n",
       "        text-align: right;\n",
       "    }\n",
       "</style>\n",
       "<table border=\"1\" class=\"dataframe\">\n",
       "  <thead>\n",
       "    <tr style=\"text-align: right;\">\n",
       "      <th></th>\n",
       "      <th>MACCS000</th>\n",
       "      <th>MACCS001</th>\n",
       "      <th>MACCS002</th>\n",
       "      <th>MACCS003</th>\n",
       "      <th>MACCS004</th>\n",
       "      <th>MACCS005</th>\n",
       "      <th>MACCS006</th>\n",
       "      <th>MACCS007</th>\n",
       "      <th>MACCS008</th>\n",
       "      <th>MACCS009</th>\n",
       "      <th>...</th>\n",
       "      <th>MACCS158</th>\n",
       "      <th>MACCS159</th>\n",
       "      <th>MACCS160</th>\n",
       "      <th>MACCS161</th>\n",
       "      <th>MACCS162</th>\n",
       "      <th>MACCS163</th>\n",
       "      <th>MACCS164</th>\n",
       "      <th>MACCS165</th>\n",
       "      <th>MACCS166</th>\n",
       "      <th>BBB_penetrance</th>\n",
       "    </tr>\n",
       "  </thead>\n",
       "  <tbody>\n",
       "    <tr>\n",
       "      <th>0</th>\n",
       "      <td>0</td>\n",
       "      <td>0</td>\n",
       "      <td>0</td>\n",
       "      <td>0</td>\n",
       "      <td>0</td>\n",
       "      <td>0</td>\n",
       "      <td>0</td>\n",
       "      <td>0</td>\n",
       "      <td>0</td>\n",
       "      <td>0</td>\n",
       "      <td>...</td>\n",
       "      <td>1</td>\n",
       "      <td>1</td>\n",
       "      <td>0</td>\n",
       "      <td>1</td>\n",
       "      <td>1</td>\n",
       "      <td>1</td>\n",
       "      <td>1</td>\n",
       "      <td>1</td>\n",
       "      <td>0</td>\n",
       "      <td>0</td>\n",
       "    </tr>\n",
       "    <tr>\n",
       "      <th>1</th>\n",
       "      <td>0</td>\n",
       "      <td>0</td>\n",
       "      <td>0</td>\n",
       "      <td>0</td>\n",
       "      <td>0</td>\n",
       "      <td>0</td>\n",
       "      <td>0</td>\n",
       "      <td>0</td>\n",
       "      <td>1</td>\n",
       "      <td>0</td>\n",
       "      <td>...</td>\n",
       "      <td>1</td>\n",
       "      <td>1</td>\n",
       "      <td>1</td>\n",
       "      <td>1</td>\n",
       "      <td>1</td>\n",
       "      <td>1</td>\n",
       "      <td>1</td>\n",
       "      <td>1</td>\n",
       "      <td>0</td>\n",
       "      <td>0</td>\n",
       "    </tr>\n",
       "    <tr>\n",
       "      <th>2</th>\n",
       "      <td>0</td>\n",
       "      <td>0</td>\n",
       "      <td>0</td>\n",
       "      <td>0</td>\n",
       "      <td>0</td>\n",
       "      <td>0</td>\n",
       "      <td>0</td>\n",
       "      <td>0</td>\n",
       "      <td>0</td>\n",
       "      <td>0</td>\n",
       "      <td>...</td>\n",
       "      <td>0</td>\n",
       "      <td>0</td>\n",
       "      <td>0</td>\n",
       "      <td>1</td>\n",
       "      <td>1</td>\n",
       "      <td>1</td>\n",
       "      <td>1</td>\n",
       "      <td>1</td>\n",
       "      <td>0</td>\n",
       "      <td>0</td>\n",
       "    </tr>\n",
       "    <tr>\n",
       "      <th>3</th>\n",
       "      <td>0</td>\n",
       "      <td>0</td>\n",
       "      <td>0</td>\n",
       "      <td>0</td>\n",
       "      <td>0</td>\n",
       "      <td>0</td>\n",
       "      <td>0</td>\n",
       "      <td>0</td>\n",
       "      <td>0</td>\n",
       "      <td>0</td>\n",
       "      <td>...</td>\n",
       "      <td>1</td>\n",
       "      <td>0</td>\n",
       "      <td>1</td>\n",
       "      <td>1</td>\n",
       "      <td>1</td>\n",
       "      <td>1</td>\n",
       "      <td>0</td>\n",
       "      <td>1</td>\n",
       "      <td>0</td>\n",
       "      <td>0</td>\n",
       "    </tr>\n",
       "    <tr>\n",
       "      <th>4</th>\n",
       "      <td>0</td>\n",
       "      <td>0</td>\n",
       "      <td>0</td>\n",
       "      <td>0</td>\n",
       "      <td>0</td>\n",
       "      <td>0</td>\n",
       "      <td>0</td>\n",
       "      <td>0</td>\n",
       "      <td>0</td>\n",
       "      <td>0</td>\n",
       "      <td>...</td>\n",
       "      <td>1</td>\n",
       "      <td>1</td>\n",
       "      <td>1</td>\n",
       "      <td>1</td>\n",
       "      <td>1</td>\n",
       "      <td>1</td>\n",
       "      <td>1</td>\n",
       "      <td>1</td>\n",
       "      <td>0</td>\n",
       "      <td>0</td>\n",
       "    </tr>\n",
       "  </tbody>\n",
       "</table>\n",
       "<p>5 rows × 168 columns</p>\n",
       "</div>"
      ],
      "text/plain": [
       "  MACCS000 MACCS001 MACCS002 MACCS003 MACCS004 MACCS005 MACCS006 MACCS007  \\\n",
       "0        0        0        0        0        0        0        0        0   \n",
       "1        0        0        0        0        0        0        0        0   \n",
       "2        0        0        0        0        0        0        0        0   \n",
       "3        0        0        0        0        0        0        0        0   \n",
       "4        0        0        0        0        0        0        0        0   \n",
       "\n",
       "  MACCS008 MACCS009  ... MACCS158 MACCS159 MACCS160 MACCS161 MACCS162  \\\n",
       "0        0        0  ...        1        1        0        1        1   \n",
       "1        1        0  ...        1        1        1        1        1   \n",
       "2        0        0  ...        0        0        0        1        1   \n",
       "3        0        0  ...        1        0        1        1        1   \n",
       "4        0        0  ...        1        1        1        1        1   \n",
       "\n",
       "  MACCS163 MACCS164 MACCS165 MACCS166 BBB_penetrance  \n",
       "0        1        1        1        0              0  \n",
       "1        1        1        1        0              0  \n",
       "2        1        1        1        0              0  \n",
       "3        1        0        1        0              0  \n",
       "4        1        1        1        0              0  \n",
       "\n",
       "[5 rows x 168 columns]"
      ]
     },
     "execution_count": 11,
     "metadata": {},
     "output_type": "execute_result"
    }
   ],
   "source": [
    "# Generate column names\n",
    "fpbitnames = []\n",
    "\n",
    "for i in range(0,167):   # from MACCS000 to MACCS166\n",
    "    fpbitnames.append( \"MACCS\" + str(i).zfill(3) )\n",
    "\n",
    "df_fps = pd.DataFrame.from_dict(fps, orient='index', columns=fpbitnames)\n",
    "df_fps['BBB_penetrance'] = df.BBB_penetrance.to_list()\n",
    "df_fps.BBB_penetrance = [ 0 if x == 'BBB-' else 1 for x in df['BBB_penetrance'] ]\n",
    "df_fps.head()"
   ]
  },
  {
   "cell_type": "code",
   "execution_count": 12,
   "id": "fb2843bb",
   "metadata": {},
   "outputs": [
    {
     "data": {
      "text/plain": [
       "1    4893\n",
       "0    2802\n",
       "Name: BBB_penetrance, dtype: int64"
      ]
     },
     "execution_count": 12,
     "metadata": {},
     "output_type": "execute_result"
    }
   ],
   "source": [
    "df_fps.BBB_penetrance.value_counts()"
   ]
  },
  {
   "cell_type": "markdown",
   "id": "f2613312",
   "metadata": {},
   "source": [
    "# Training Classifier"
   ]
  },
  {
   "cell_type": "code",
   "execution_count": 13,
   "id": "5e3c582a",
   "metadata": {},
   "outputs": [],
   "source": [
    "X = df_fps.iloc[:,:-1]\n",
    "y = df_fps['BBB_penetrance'].values"
   ]
  },
  {
   "cell_type": "code",
   "execution_count": 14,
   "id": "624a9bfc",
   "metadata": {},
   "outputs": [
    {
     "name": "stdout",
     "output_type": "stream",
     "text": [
      "(5386, 167) (2309, 167) (5386,) (2309,)\n",
      "3425 1468\n"
     ]
    }
   ],
   "source": [
    "X_train, X_test, y_train, y_test = \\\n",
    "    train_test_split(X, y, shuffle=True, random_state=3100, stratify=y, test_size=0.3)\n",
    "\n",
    "print(X_train.shape, X_test.shape, y_train.shape, y_test.shape)\n",
    "print(y_train.sum(), y_test.sum())"
   ]
  },
  {
   "cell_type": "code",
   "execution_count": 15,
   "id": "1e6b228c",
   "metadata": {},
   "outputs": [
    {
     "name": "stderr",
     "output_type": "stream",
     "text": [
      "100%|███████████████████████████████████████████| 36/36 [00:14<00:00,  2.42it/s]\n"
     ]
    },
    {
     "data": {
      "image/png": "[encoded data removed]",
      "text/plain": [
       "<Figure size 640x480 with 1 Axes>"
      ]
     },
     "metadata": {},
     "output_type": "display_data"
    },
    {
     "name": "stdout",
     "output_type": "stream",
     "text": [
      "Best number of trees: 155\n"
     ]
    }
   ],
   "source": [
    "f1_scores = []\n",
    "array = np.arange(20,200,5)\n",
    "for number_trees in tqdm(array):\n",
    "    RFCls = RandomForestClassifier(n_estimators = number_trees, random_state = 0)\n",
    "    RFCls.fit(X_train,y_train)\n",
    "    f1_scores.append(f1_score(y_test, RFCls.predict(X_test)))\n",
    "    \n",
    "plt.plot(array, f1_scores)\n",
    "plt.xlabel('Number of Trees')\n",
    "plt.ylabel('F1 Score')\n",
    "plt.title('Number of Trees Selection')\n",
    "plt.show()\n",
    "\n",
    "best_alpha = array[max(range(len(f1_scores)), key=f1_scores.__getitem__)]\n",
    "\n",
    "print(f\"Best number of trees: {best_alpha}\")"
   ]
  },
  {
   "cell_type": "code",
   "execution_count": 22,
   "id": "b5054eff",
   "metadata": {},
   "outputs": [],
   "source": [
    "def performance_analysis(model):\n",
    "    from sklearn.metrics import f1_score\n",
    "    \n",
    "    y_true, y_pred = y_train, model.predict(X_train)\n",
    "    CMat = confusion_matrix( y_true, y_pred )\n",
    "    \n",
    "    print(\"Using Training Data\")\n",
    "    print(\"Confusion Matrix\")\n",
    "    print(CMat, '\\n')    # [[TN, FP],[FN, TP]]\n",
    "    acc  = accuracy_score(y_true, y_pred)\n",
    "    f1 = f1_score(y_true, y_pred)\n",
    "    y_score = model.predict_proba(X_train)[:, 1]\n",
    "    auc = roc_auc_score(y_true, y_score)\n",
    "    print(f\"Accuracy: {acc}\\nF1 Score: {f1}\\nROC AUC {auc}\\n\")\n",
    "    \n",
    "    y_true, y_pred = y_test, model.predict(X_test)\n",
    "    CMat = confusion_matrix( y_true, y_pred )\n",
    "    \n",
    "    print(\"Using Test Data\")\n",
    "    print(\"Confusion Matrix\")\n",
    "    print(CMat, '\\n')    # [[TN, FP],[FN, TP]]\n",
    "    acc  = accuracy_score(y_true, y_pred)\n",
    "    f1 = f1_score(y_true, y_pred)\n",
    "    y_score = model.predict_proba(X_test)[:, 1]\n",
    "    auc = roc_auc_score(y_true, y_score)\n",
    "    print(f\"Accuracy: {acc}\\nF1 Score: {f1}\\nROC AUC {auc}\")\n",
    "    print(\"\\n\")\n",
    "    print(classification_report(y_true, y_pred))"
   ]
  },
  {
   "cell_type": "code",
   "execution_count": 17,
   "id": "01c2da61",
   "metadata": {},
   "outputs": [
    {
     "name": "stdout",
     "output_type": "stream",
     "text": [
      "Using Training Data\n",
      "Confusion Matrix\n",
      "[[1920   41]\n",
      " [  50 3375]] \n",
      "\n",
      "Accuracy: 0.9831043445971036\n",
      "F1 Score: 0.9866978511913463\n",
      "ROC AUC 0.9983772617128904\n",
      "\n",
      "Using Test Data\n",
      "Confusion Matrix\n",
      "[[ 688  153]\n",
      " [  97 1371]] \n",
      "\n",
      "Accuracy: 0.89172802078822\n",
      "F1 Score: 0.9164438502673796\n",
      "ROC AUC 0.9571363078209086\n",
      "\n",
      "\n",
      "              precision    recall  f1-score   support\n",
      "\n",
      "           0       0.88      0.82      0.85       841\n",
      "           1       0.90      0.93      0.92      1468\n",
      "\n",
      "    accuracy                           0.89      2309\n",
      "   macro avg       0.89      0.88      0.88      2309\n",
      "weighted avg       0.89      0.89      0.89      2309\n",
      "\n"
     ]
    }
   ],
   "source": [
    "maccs_rf_clf = RandomForestClassifier(n_estimators = best_alpha, random_state = 0)\n",
    "maccs_rf_clf.fit(X_train ,y_train)\n",
    "\n",
    "performance_analysis(maccs_rf_clf)"
   ]
  },
  {
   "cell_type": "code",
   "execution_count": 18,
   "id": "7caa1d33",
   "metadata": {},
   "outputs": [],
   "source": [
    "import pickle\n",
    "\n",
    "filename = 'BBB_classifier_maccs_rf.sav'\n",
    "# pickle.dump(maccs_rf_clf, open(filename, 'wb'))"
   ]
  },
  {
   "cell_type": "code",
   "execution_count": 29,
   "id": "f144a595",
   "metadata": {},
   "outputs": [
    {
     "data": {
      "text/plain": [
       "<AxesSubplot: >"
      ]
     },
     "execution_count": 29,
     "metadata": {},
     "output_type": "execute_result"
    },
    {
     "data": {
      "image/png": "[encoded data removed]",
      "text/plain": [
       "<Figure size 640x480 with 2 Axes>"
      ]
     },
     "metadata": {},
     "output_type": "display_data"
    }
   ],
   "source": [
    "import seaborn as sns\n",
    "sns.heatmap(CMat, annot=True, \n",
    "             cmap='Blues')"
   ]
  },
  {
   "cell_type": "code",
   "execution_count": 28,
   "id": "a9d70b3c",
   "metadata": {},
   "outputs": [],
   "source": [
    "y_true, y_pred = y_test, maccs_rf_clf.predict(X_test)\n",
    "CMat = confusion_matrix( y_true, y_pred )"
   ]
  },
  {
   "cell_type": "code",
   "execution_count": null,
   "id": "e885ae1d",
   "metadata": {},
   "outputs": [],
   "source": []
  }
 ],
 "metadata": {
  "kernelspec": {
   "display_name": "Python [conda env:rdkit_env] *",
   "language": "python",
   "name": "conda-env-rdkit_env-py"
  },
  "language_info": {
   "codemirror_mode": {
    "name": "ipython",
    "version": 3
   },
   "file_extension": ".py",
   "mimetype": "text/x-python",
   "name": "python",
   "nbconvert_exporter": "python",
   "pygments_lexer": "ipython3",
   "version": "3.10.6"
  }
 },
 "nbformat": 4,
 "nbformat_minor": 5
}
